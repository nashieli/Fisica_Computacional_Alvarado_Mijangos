{
 "cells": [
  {
   "cell_type": "markdown",
   "metadata": {},
   "source": [
    "#### Ejercicio 1: ¿Como podemos evaluar funciones en matrices? Hint: ¿que operaciones sabemos que estan bien definidas sobre matrices?"
   ]
  },
  {
   "cell_type": "markdown",
   "metadata": {},
   "source": [
    "Dada una matriz D de la forma\n",
    "\n",
    "$$ D = diag(\\lambda_{1},...,\\lambda_{k}) $$\n",
    "\n",
    "Entonces\n",
    "\n",
    "$$ D^{2} = diag(\\lambda^{2}_{1},...,\\lambda^{2}_{k}) $$\n",
    "\n",
    "$$.$$\n",
    "$$.$$\n",
    "$$.$$\n",
    "\n",
    "$$ D^{n} = diag(\\lambda^{n}_{1},...,\\lambda^{n}_{k}) $$\n",
    "\n",
    "Por lo cual, evaluar la matriz D en una función se puede realizar de la siguiente manera\n",
    "\n",
    "$$f(D)= \\sum_{n} C_{n}D^{n} = \\sum_{n} C_{n}diag(\\lambda^{n}_{1},...,\\lambda^{n}_{k}) = diag(\\sum_{n} C_{n}\\lambda^{n}_{1},...,\\sum_{n} C_{n}\\lambda^{n}_{k}) $$ \n",
    "\n",
    "Se sigue entonces que\n",
    "\n",
    "$$f(D) = diag(f(\\lambda_{1}),...,f(\\lambda_{k}))$$\n",
    "\n",
    "De manera general, si \n",
    "\n",
    "$$A = WDW^{-1}$$ donde $D = diag(\\lambda_{1},...,\\lambda_{k})$ y W es la matriz de eigenvectores de A.\n",
    "\n",
    "Entonces\n",
    "\n",
    "$$f(A) = Wf(D)W^{-1}$$\n",
    "\n",
    "Prueba\n",
    "\n",
    "$$f(A) = f(WDW^{-1}) = f(D)= \\sum_{n} C_{n}A^{n} = f(D)= \\sum_{n} C_{n}WD^{n}W^{-1} = W(\\sum_{n} C_{n}D^{n})W^{-1} = Wf(D)W^{-1} $$\n",
    "\n"
   ]
  },
  {
   "cell_type": "markdown",
   "metadata": {},
   "source": [
    "#### Ejercicio 2: ¿Como se define una matriz simétrica?"
   ]
  },
  {
   "cell_type": "markdown",
   "metadata": {},
   "source": [
    "Sea una matriz A, decimos que A es simétrica si sus elementos son de la forma $a_{ij}=a_{ji}$. Esto es, A es simétrica si A es igual a su transpuesta $A=A^{t}$"
   ]
  },
  {
   "cell_type": "markdown",
   "metadata": {},
   "source": [
    "#### Ejercicio 3: ¿Como puede construir una matriz simétrica a partir de cualquier matriz cuadrada?"
   ]
  },
  {
   "cell_type": "markdown",
   "metadata": {},
   "source": [
    "Dada A una matriz cuadrada, esta se puede descomponer en una parte simétrica y una antisimétrica como sigue\n",
    "\n",
    "$$ A = \\frac{(A + A^{t})}{2} + \\frac{(A - A^{t})}{2}$$ \n",
    "\n",
    "Por lo cual, se puede construir la matriz simétrica de A tomando sólo la parte simétrica, es decir \n",
    "\n",
    "$$A = \\frac{(A + A^{t})}{2} $$"
   ]
  },
  {
   "cell_type": "markdown",
   "metadata": {},
   "source": [
    "#### Ejercicio 4: Construya el propagador $e^{A t}$ para cada tiempo sobre una malla y uselo para propagar un estado inicial $\\vec x_0$ cualquiera. Utilice: $$A=\\left(\\begin{array}{cc} -1 & 1\\\\ -1 & -1 \\end{array} \\right).$$"
   ]
  },
  {
   "cell_type": "code",
   "execution_count": 1,
   "metadata": {},
   "outputs": [
    {
     "data": {
      "text/plain": [
       "2×2 Array{Int64,2}:\n",
       " -1   1\n",
       " -1  -1"
      ]
     },
     "execution_count": 1,
     "metadata": {},
     "output_type": "execute_result"
    }
   ],
   "source": [
    "A = [-1 1; -1 -1] #Se define la matriz A."
   ]
  },
  {
   "cell_type": "code",
   "execution_count": 3,
   "metadata": {},
   "outputs": [
    {
     "data": {
      "text/plain": [
       "2-element Array{Complex{Float64},1}:\n",
       " -1.0+1.0im\n",
       " -1.0-1.0im"
      ]
     },
     "execution_count": 3,
     "metadata": {},
     "output_type": "execute_result"
    }
   ],
   "source": [
    "vals = eigvals(A) #Se obtienen los eigenvalores de la matriz A."
   ]
  },
  {
   "cell_type": "code",
   "execution_count": 5,
   "metadata": {},
   "outputs": [
    {
     "data": {
      "text/plain": [
       "2×2 Array{Complex{Float64},2}:\n",
       " 0.198766+0.30956im       0.0+0.0im    \n",
       "      0.0+0.0im      0.198766-0.30956im"
      ]
     },
     "execution_count": 5,
     "metadata": {},
     "output_type": "execute_result"
    }
   ],
   "source": [
    "D = diagm(exp.(vals)) #Se define la matriz cuyos elementos de la diagonal son\n",
    "#exponenciales evaluadas en los eigenvalores anteriormente calculados."
   ]
  },
  {
   "cell_type": "code",
   "execution_count": 6,
   "metadata": {},
   "outputs": [
    {
     "data": {
      "text/plain": [
       "2×2 Array{Complex{Float64},2}:\n",
       " 0.707107+0.0im       0.707107-0.0im     \n",
       "      0.0+0.707107im       0.0-0.707107im"
      ]
     },
     "execution_count": 6,
     "metadata": {},
     "output_type": "execute_result"
    }
   ],
   "source": [
    "W = eigvecs(A) #Se obtienen los eigenvectores de A."
   ]
  },
  {
   "cell_type": "code",
   "execution_count": 9,
   "metadata": {},
   "outputs": [
    {
     "data": {
      "text/plain": [
       "2×2 Array{Complex{Float64},2}:\n",
       " 0.198766+0.0im   0.30956+0.0im\n",
       " -0.30956+0.0im  0.198766+0.0im"
      ]
     },
     "execution_count": 9,
     "metadata": {},
     "output_type": "execute_result"
    }
   ],
   "source": [
    "expA = W * D * inv(W) #Se obtiene la función exponencial valuada en la matriz A."
   ]
  },
  {
   "cell_type": "code",
   "execution_count": 10,
   "metadata": {},
   "outputs": [
    {
     "data": {
      "text/plain": [
       "f (generic function with 1 method)"
      ]
     },
     "execution_count": 10,
     "metadata": {},
     "output_type": "execute_result"
    }
   ],
   "source": [
    "f(x,t)=(expA)*[x[1],x[2]] #Se define una función para construir el propagador."
   ]
  },
  {
   "cell_type": "code",
   "execution_count": 12,
   "metadata": {},
   "outputs": [
    {
     "data": {
      "text/plain": [
       "metodo_euler_vec (generic function with 1 method)"
      ]
     },
     "execution_count": 12,
     "metadata": {},
     "output_type": "execute_result"
    }
   ],
   "source": [
    "function metodo_euler_vec(f,list,x0) #Se crea una función que implementa el método de Euler vectorial. \n",
    "    #Dicha función toma como entradas la función, una lista y el valor inicial x0.\n",
    "     x = x0 #Se asigna a x el valor inicial x0.\n",
    "     h = list[2]-list[1] #Se escribe el paso de h.\n",
    "     listx = [] #Se crea un vector vacío.\n",
    "     for i in 2:length(list)\n",
    "        t = i*h #Se calculan los valores de t.\n",
    "        x = x + f(x,t)*h #Se realiza la operación del método de Euler.\n",
    "        push!(listx,x) #Se guarda en listx los valores de x que se obtienen del método de Euler.\n",
    "     end\n",
    "     return listx #Se regresa la lista de x.\n",
    "end"
   ]
  },
  {
   "cell_type": "code",
   "execution_count": 13,
   "metadata": {},
   "outputs": [
    {
     "name": "stderr",
     "output_type": "stream",
     "text": [
      "WARNING: imported binding for vec overwritten in module Main\n"
     ]
    },
    {
     "data": {
      "text/plain": [
       "10000-element Array{Any,1}:\n",
       " Complex{Float64}[1.00199+0.0im, -0.0030956+0.0im] \n",
       " Complex{Float64}[1.00397+0.0im, -0.0062035+0.0im] \n",
       " Complex{Float64}[1.00595+0.0im, -0.00932372+0.0im]\n",
       " Complex{Float64}[1.00792+0.0im, -0.0124563+0.0im] \n",
       " Complex{Float64}[1.00988+0.0im, -0.0156011+0.0im] \n",
       " Complex{Float64}[1.01184+0.0im, -0.0187583+0.0im] \n",
       " Complex{Float64}[1.01379+0.0im, -0.0219279+0.0im] \n",
       " Complex{Float64}[1.01574+0.0im, -0.0251097+0.0im] \n",
       " Complex{Float64}[1.01768+0.0im, -0.028304+0.0im]  \n",
       " Complex{Float64}[1.01962+0.0im, -0.0315106+0.0im] \n",
       " Complex{Float64}[1.02155+0.0im, -0.0347295+0.0im] \n",
       " Complex{Float64}[1.02347+0.0im, -0.0379609+0.0im] \n",
       " Complex{Float64}[1.02539+0.0im, -0.0412046+0.0im] \n",
       " ⋮                                                 \n",
       " Complex{Float64}[3.6661e8+0.0im, 2.27518e8+0.0im] \n",
       " Complex{Float64}[3.68043e8+0.0im, 2.26836e8+0.0im]\n",
       " Complex{Float64}[3.69477e8+0.0im, 2.26147e8+0.0im]\n",
       " Complex{Float64}[3.70911e8+0.0im, 2.25453e8+0.0im]\n",
       " Complex{Float64}[3.72346e8+0.0im, 2.24753e8+0.0im]\n",
       " Complex{Float64}[3.73782e8+0.0im, 2.24047e8+0.0im]\n",
       " Complex{Float64}[3.75219e8+0.0im, 2.23335e8+0.0im]\n",
       " Complex{Float64}[3.76656e8+0.0im, 2.22618e8+0.0im]\n",
       " Complex{Float64}[3.78094e8+0.0im, 2.21894e8+0.0im]\n",
       " Complex{Float64}[3.79532e8+0.0im, 2.21165e8+0.0im]\n",
       " Complex{Float64}[3.80971e8+0.0im, 2.20429e8+0.0im]\n",
       " Complex{Float64}[3.82411e8+0.0im, 2.19688e8+0.0im]"
      ]
     },
     "execution_count": 13,
     "metadata": {},
     "output_type": "execute_result"
    }
   ],
   "source": [
    "list = 0:0.01:100 #Se crea una lista de tiempo.\n",
    "vec = metodo_euler_vec(f,list,[1,0]) #Se evalúa para una condición inicial."
   ]
  },
  {
   "cell_type": "code",
   "execution_count": 14,
   "metadata": {},
   "outputs": [
    {
     "data": {
      "text/plain": [
       "10000-element Array{Complex{Float64},1}:\n",
       "  -0.0030956+0.0im\n",
       "  -0.0062035+0.0im\n",
       " -0.00932372+0.0im\n",
       "  -0.0124563+0.0im\n",
       "  -0.0156011+0.0im\n",
       "  -0.0187583+0.0im\n",
       "  -0.0219279+0.0im\n",
       "  -0.0251097+0.0im\n",
       "   -0.028304+0.0im\n",
       "  -0.0315106+0.0im\n",
       "  -0.0347295+0.0im\n",
       "  -0.0379609+0.0im\n",
       "  -0.0412046+0.0im\n",
       "            ⋮     \n",
       "   2.27518e8+0.0im\n",
       "   2.26836e8+0.0im\n",
       "   2.26147e8+0.0im\n",
       "   2.25453e8+0.0im\n",
       "   2.24753e8+0.0im\n",
       "   2.24047e8+0.0im\n",
       "   2.23335e8+0.0im\n",
       "   2.22618e8+0.0im\n",
       "   2.21894e8+0.0im\n",
       "   2.21165e8+0.0im\n",
       "   2.20429e8+0.0im\n",
       "   2.19688e8+0.0im"
      ]
     },
     "execution_count": 14,
     "metadata": {},
     "output_type": "execute_result"
    }
   ],
   "source": [
    "listx1 = map(x->x[1],vec) #Guarda  los elementos x[1] de cada elemeno de vec en listx1.\n",
    "listx2 = map(x->x[2],vec) #Guarda  los elementos x[2] de cada elemeno de vec en listx2."
   ]
  },
  {
   "cell_type": "code",
   "execution_count": 15,
   "metadata": {
    "collapsed": true
   },
   "outputs": [],
   "source": [
    "using PyPlot"
   ]
  },
  {
   "cell_type": "code",
   "execution_count": 16,
   "metadata": {},
   "outputs": [
    {
     "data": {
      "image/png": "[encoded data removed]",
      "text/plain": [
       "PyPlot.Figure(PyObject <matplotlib.figure.Figure object at 0x000000002B033390>)"
      ]
     },
     "metadata": {},
     "output_type": "display_data"
    },
    {
     "data": {
      "text/plain": [
       "PyObject <matplotlib.text.Text object at 0x000000002B3B3160>"
      ]
     },
     "execution_count": 16,
     "metadata": {},
     "output_type": "execute_result"
    }
   ],
   "source": [
    "#Se grafica en el espacio fase.\n",
    "plot(listx1,listx2)\n",
    "xlabel(\"x\")\n",
    "ylabel(\"y\")"
   ]
  },
  {
   "cell_type": "code",
   "execution_count": null,
   "metadata": {
    "collapsed": true
   },
   "outputs": [],
   "source": []
  }
 ],
 "metadata": {
  "kernelspec": {
   "display_name": "Julia 0.6.0",
   "language": "julia",
   "name": "julia-0.6"
  },
  "language_info": {
   "file_extension": ".jl",
   "mimetype": "application/julia",
   "name": "julia",
   "version": "0.6.0"
  }
 },
 "nbformat": 4,
 "nbformat_minor": 2
}
