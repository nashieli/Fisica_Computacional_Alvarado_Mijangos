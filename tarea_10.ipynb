{
 "cells": [
  {
   "cell_type": "code",
   "execution_count": 3,
   "metadata": {
    "collapsed": true
   },
   "outputs": [],
   "source": [
    "using SymPy"
   ]
  },
  {
   "cell_type": "markdown",
   "metadata": {},
   "source": [
    "Se realiza una rutina para calcular la derivada a órdenes más altos, pero ahora para el operador derivada simetrizada."
   ]
  },
  {
   "cell_type": "code",
   "execution_count": 4,
   "metadata": {
    "collapsed": true
   },
   "outputs": [],
   "source": [
    "function coef_Taylor_arcseno(i)\n",
    "x=Sym(\"x\");\n",
    "h=Sym(\"h\");\n",
    "N(subs(diff(asinh(x/2),x,i)/factorial(Float64(i)),x=>0))\n",
    "end;\n",
    "\n",
    "function coef_Taylor_arcseno_rational(i)\n",
    "    x=Sym(\"x\");\n",
    "    h=Sym(\"h\");\n",
    "    subs(diff(asinh(x/2),x,i)/factorial(i),x=>0)\n",
    "end;\n",
    "\n",
    "function finite_difference_symetric(f)\n",
    "    return (x,h)->f(x + h,h) - f(x - h,h)\n",
    "end;"
   ]
  },
  {
   "cell_type": "code",
   "execution_count": 5,
   "metadata": {
    "collapsed": true
   },
   "outputs": [],
   "source": [
    "g=SymFunction(\"g\");"
   ]
  },
  {
   "cell_type": "code",
   "execution_count": 6,
   "metadata": {},
   "outputs": [
    {
     "data": {
      "text/plain": [
       "rr (generic function with 1 method)"
      ]
     },
     "execution_count": 6,
     "metadata": {},
     "output_type": "execute_result"
    }
   ],
   "source": [
    "rr(x,h)=g(x)"
   ]
  },
  {
   "cell_type": "code",
   "execution_count": 7,
   "metadata": {},
   "outputs": [
    {
     "data": {
      "text/latex": [
       "$$g{\\left (x \\right )}$$"
      ],
      "text/plain": [
       "g(x)"
      ]
     },
     "execution_count": 7,
     "metadata": {},
     "output_type": "execute_result"
    }
   ],
   "source": [
    "rr(Sym(\"x\"),Sym(\"h\"))"
   ]
  },
  {
   "cell_type": "code",
   "execution_count": 8,
   "metadata": {},
   "outputs": [
    {
     "data": {
      "text/latex": [
       "$$- g{\\left (- h + x \\right )} + g{\\left (h + x \\right )}$$"
      ],
      "text/plain": [
       "-g(-h + x) + g(h + x)"
      ]
     },
     "execution_count": 8,
     "metadata": {},
     "output_type": "execute_result"
    }
   ],
   "source": [
    "gg=finite_difference_symetric(rr);\n",
    "gg(Sym(\"x\"),Sym(\"h\"))"
   ]
  },
  {
   "cell_type": "code",
   "execution_count": 9,
   "metadata": {},
   "outputs": [
    {
     "data": {
      "text/latex": [
       "$$- 2 g{\\left (x \\right )} + g{\\left (- 2 h + x \\right )} + g{\\left (2 h + x \\right )}$$"
      ],
      "text/plain": [
       "-2*g(x) + g(-2*h + x) + g(2*h + x)"
      ]
     },
     "execution_count": 9,
     "metadata": {},
     "output_type": "execute_result"
    }
   ],
   "source": [
    "gg=finite_difference_symetric(gg);\n",
    "gg(Sym(\"x\"),Sym(\"h\"))"
   ]
  },
  {
   "cell_type": "code",
   "execution_count": 10,
   "metadata": {},
   "outputs": [
    {
     "data": {
      "text/latex": [
       "$$- g{\\left (- 3 h + x \\right )} + 3 g{\\left (- h + x \\right )} - 3 g{\\left (h + x \\right )} + g{\\left (3 h + x \\right )}$$"
      ],
      "text/plain": [
       "-g(-3*h + x) + 3*g(-h + x) - 3*g(h + x) + g(3*h + x)"
      ]
     },
     "execution_count": 10,
     "metadata": {},
     "output_type": "execute_result"
    }
   ],
   "source": [
    "gg=finite_difference_symetric(gg);\n",
    "gg(Sym(\"x\"),Sym(\"h\"))"
   ]
  },
  {
   "cell_type": "code",
   "execution_count": 11,
   "metadata": {
    "collapsed": true
   },
   "outputs": [],
   "source": [
    "function Derivative_order(f,x,h,order)\n",
    "    g(x,h)=f(x)\n",
    "    der=0\n",
    "    for i in range(1,order)\n",
    "        g=finite_difference_symetric(g)\n",
    "        der=der+coef_Taylor_arcseno(i)*g(x,h)\n",
    "    end\n",
    "    der/h\n",
    "end;\n",
    "function Derivative_order_rational_coefficients(f,x,h,order)\n",
    "    g(x,h)=f(x)\n",
    "    der=0\n",
    "    for i in range(1,order)\n",
    "        g=finite_difference_symetric(g)\n",
    "        der=der+coef_Taylor_arcseno_rational(i)*g(x,h)\n",
    "    end\n",
    "    der/h\n",
    "end;"
   ]
  },
  {
   "cell_type": "code",
   "execution_count": 12,
   "metadata": {
    "scrolled": true
   },
   "outputs": [
    {
     "data": {
      "text/plain": [
       "0.5440211108893371"
      ]
     },
     "execution_count": 12,
     "metadata": {},
     "output_type": "execute_result"
    }
   ],
   "source": [
    "Derivative_order(cos,10.0,0.01,6) #Se realiza una prueba para la función coseno, donde se puede observar que se tiene una mejor aproximación para la derivada simétrica como era de esperarse."
   ]
  },
  {
   "cell_type": "code",
   "execution_count": 13,
   "metadata": {},
   "outputs": [
    {
     "data": {
      "text/plain": [
       "0.5440211108893698"
      ]
     },
     "execution_count": 13,
     "metadata": {},
     "output_type": "execute_result"
    }
   ],
   "source": [
    "-sin(10.0)"
   ]
  },
  {
   "cell_type": "code",
   "execution_count": 14,
   "metadata": {
    "collapsed": true
   },
   "outputs": [],
   "source": [
    "f=SymFunction(\"f\");"
   ]
  },
  {
   "cell_type": "code",
   "execution_count": 15,
   "metadata": {},
   "outputs": [
    {
     "data": {
      "text/latex": [
       "$$\\frac{1}{h} \\left(- \\frac{1}{2} f{\\left (- h + x \\right )} + \\frac{1}{2} f{\\left (h + x \\right )}\\right)$$"
      ],
      "text/plain": [
       "  f(-h + x)   f(h + x)\n",
       "- --------- + --------\n",
       "      2          2    \n",
       "----------------------\n",
       "          h           "
      ]
     },
     "execution_count": 15,
     "metadata": {},
     "output_type": "execute_result"
    }
   ],
   "source": [
    "aprox=Derivative_order_rational_coefficients(SymFunction(\"f\"),Sym(\"x\"),Sym(\"h\"),1)"
   ]
  },
  {
   "cell_type": "code",
   "execution_count": 16,
   "metadata": {},
   "outputs": [
    {
     "data": {
      "text/latex": [
       "$$\\left. \\frac{d}{d \\xi_{1}} f{\\left (\\xi_{1} \\right )} \\right|_{\\substack{ \\xi_{1}=x }} + \\frac{h^{2}}{6} \\left. \\frac{d^{3}}{d \\xi_{1}^{3}}  f{\\left (\\xi_{1} \\right )} \\right|_{\\substack{ \\xi_{1}=x }} + \\frac{h^{4}}{120} \\left. \\frac{d^{5}}{d \\xi_{1}^{5}}  f{\\left (\\xi_{1} \\right )} \\right|_{\\substack{ \\xi_{1}=x }} + \\mathcal{O}\\left(h^{5}\\right)$$"
      ],
      "text/plain": [
       "                             /   3           \\|            /   5           \\| \n",
       "                           2 |  d            ||          4 |  d            || \n",
       "                          h *|------(f(xi_1))||         h *|------(f(xi_1))|| \n",
       "                             |     3         ||            |     5         || \n",
       "/  d           \\|            \\dxi_1          /|xi_1=x      \\dxi_1          /|x\n",
       "|-----(f(xi_1))||       + --------------------------- + ----------------------\n",
       "\\dxi_1         /|xi_1=x                6                            120       \n",
       "\n",
       "             \n",
       "             \n",
       "             \n",
       "             \n",
       "i_1=x    / 5\\\n",
       "----- + O\\h /\n",
       "             "
      ]
     },
     "execution_count": 16,
     "metadata": {},
     "output_type": "execute_result"
    }
   ],
   "source": [
    "series(aprox,Sym(\"h\"),0,5)"
   ]
  },
  {
   "cell_type": "code",
   "execution_count": 17,
   "metadata": {},
   "outputs": [
    {
     "data": {
      "text/latex": [
       "$$\\frac{1}{h} \\left(- \\frac{3}{1280} f{\\left (- 5 h + x \\right )} + \\frac{25}{768} f{\\left (- 3 h + x \\right )} - \\frac{75}{128} f{\\left (- h + x \\right )} + \\frac{75}{128} f{\\left (h + x \\right )} - \\frac{25}{768} f{\\left (3 h + x \\right )} + \\frac{3}{1280} f{\\left (5 h + x \\right )}\\right)$$"
      ],
      "text/plain": [
       "  3*f(-5*h + x)   25*f(-3*h + x)   75*f(-h + x)   75*f(h + x)   25*f(3*h + x) \n",
       "- ------------- + -------------- - ------------ + ----------- - ------------- \n",
       "       1280            768             128            128            768      \n",
       "------------------------------------------------------------------------------\n",
       "                                             h                                \n",
       "\n",
       "  3*f(5*h + x)\n",
       "+ ------------\n",
       "      1280    \n",
       "--------------\n",
       "              "
      ]
     },
     "execution_count": 17,
     "metadata": {},
     "output_type": "execute_result"
    }
   ],
   "source": [
    "aprox=Derivative_order_rational_coefficients(SymFunction(\"f\"),Sym(\"x\"),Sym(\"h\"),5)"
   ]
  },
  {
   "cell_type": "code",
   "execution_count": 18,
   "metadata": {},
   "outputs": [
    {
     "data": {
      "text/latex": [
       "$$\\left. \\frac{d}{d \\xi_{1}} f{\\left (\\xi_{1} \\right )} \\right|_{\\substack{ \\xi_{1}=x }} + \\mathcal{O}\\left(h^{6}\\right)$$"
      ],
      "text/plain": [
       "/  d           \\|          / 6\\\n",
       "|-----(f(xi_1))||       + O\\h /\n",
       "\\dxi_1         /|xi_1=x        "
      ]
     },
     "execution_count": 18,
     "metadata": {},
     "output_type": "execute_result"
    }
   ],
   "source": [
    "series(aprox,Sym(\"h\"),0,6)"
   ]
  },
  {
   "cell_type": "code",
   "execution_count": null,
   "metadata": {
    "collapsed": true
   },
   "outputs": [],
   "source": []
  }
 ],
 "metadata": {
  "kernelspec": {
   "display_name": "Julia 0.4.5",
   "language": "julia",
   "name": "julia-0.4"
  },
  "language_info": {
   "file_extension": ".jl",
   "mimetype": "application/julia",
   "name": "julia",
   "version": "0.4.5"
  }
 },
 "nbformat": 4,
 "nbformat_minor": 2
}
