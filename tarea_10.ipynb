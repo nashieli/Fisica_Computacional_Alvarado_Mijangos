{
 "cells": [
  {
   "cell_type": "code",
   "execution_count": 1,
   "metadata": {
    "collapsed": true
   },
   "outputs": [],
   "source": [
    "using SymPy"
   ]
  },
  {
   "cell_type": "code",
   "execution_count": 187,
   "metadata": {},
   "outputs": [
    {
     "name": "stderr",
     "output_type": "stream",
     "text": [
      "WARNING: Method definition coeff_Taylor_arcsen_rational(Any) in module Main at In[186]:8 overwritten at In[187]:8.\n",
      "WARNING: Method definition finite_difference_symetric(Any) in module Main at In[186]:14 overwritten at In[187]:14.\n"
     ]
    }
   ],
   "source": [
    "function coeff_Taylor_arcseno(i)\n",
    "x=Sym(\"x\");\n",
    "h=Sym(\"h\");\n",
    "N(subs(diff(asinh(x/2),x,i)/factorial(Float64(i)),x=>0))\n",
    "end;\n",
    "\n",
    "function coeff_Taylor_arcseno_rational(i)\n",
    "    x=Sym(\"x\");\n",
    "    h=Sym(\"h\");\n",
    "    subs(diff(asinh(x/2),x,i)/factorial(i),x=>0)\n",
    "end;\n",
    "\n",
    "function finite_difference_symetric(f)\n",
    "    return (x,h)->f(x + h,h) - f(x - h,h)\n",
    "end;"
   ]
  },
  {
   "cell_type": "code",
   "execution_count": 176,
   "metadata": {
    "collapsed": true
   },
   "outputs": [],
   "source": [
    "g=SymFunction(\"g\");"
   ]
  },
  {
   "cell_type": "code",
   "execution_count": 177,
   "metadata": {},
   "outputs": [
    {
     "name": "stderr",
     "output_type": "stream",
     "text": [
      "WARNING: Method definition rr(Any, Any) in module Main at In[165]:1 overwritten at In[177]:1.\n"
     ]
    },
    {
     "data": {
      "text/plain": [
       "rr (generic function with 1 method)"
      ]
     },
     "execution_count": 177,
     "metadata": {},
     "output_type": "execute_result"
    }
   ],
   "source": [
    "rr(x,h)=g(x)"
   ]
  },
  {
   "cell_type": "code",
   "execution_count": 178,
   "metadata": {},
   "outputs": [
    {
     "data": {
      "text/latex": [
       "$$g{\\left (x \\right )}$$"
      ],
      "text/plain": [
       "g(x)"
      ]
     },
     "execution_count": 178,
     "metadata": {},
     "output_type": "execute_result"
    }
   ],
   "source": [
    "rr(Sym(\"x\"),Sym(\"h\"))"
   ]
  },
  {
   "cell_type": "code",
   "execution_count": 179,
   "metadata": {},
   "outputs": [
    {
     "data": {
      "text/latex": [
       "$$- g{\\left (- h + x \\right )} + g{\\left (h + x \\right )}$$"
      ],
      "text/plain": [
       "-g(-h + x) + g(h + x)"
      ]
     },
     "execution_count": 179,
     "metadata": {},
     "output_type": "execute_result"
    }
   ],
   "source": [
    "gg=finite_difference_symetric(rr);\n",
    "gg(Sym(\"x\"),Sym(\"h\"))"
   ]
  },
  {
   "cell_type": "code",
   "execution_count": 180,
   "metadata": {},
   "outputs": [
    {
     "data": {
      "text/latex": [
       "$$- 2 g{\\left (x \\right )} + g{\\left (- 2 h + x \\right )} + g{\\left (2 h + x \\right )}$$"
      ],
      "text/plain": [
       "-2*g(x) + g(-2*h + x) + g(2*h + x)"
      ]
     },
     "execution_count": 180,
     "metadata": {},
     "output_type": "execute_result"
    }
   ],
   "source": [
    "gg=finite_difference_symetric(gg);\n",
    "gg(Sym(\"x\"),Sym(\"h\"))"
   ]
  },
  {
   "cell_type": "code",
   "execution_count": 181,
   "metadata": {},
   "outputs": [
    {
     "data": {
      "text/latex": [
       "$$- g{\\left (- 3 h + x \\right )} + 3 g{\\left (- h + x \\right )} - 3 g{\\left (h + x \\right )} + g{\\left (3 h + x \\right )}$$"
      ],
      "text/plain": [
       "-g(-3*h + x) + 3*g(-h + x) - 3*g(h + x) + g(3*h + x)"
      ]
     },
     "execution_count": 181,
     "metadata": {},
     "output_type": "execute_result"
    }
   ],
   "source": [
    "gg=finite_difference_symetric(gg);\n",
    "gg(Sym(\"x\"),Sym(\"h\"))"
   ]
  },
  {
   "cell_type": "code",
   "execution_count": 188,
   "metadata": {},
   "outputs": [
    {
     "name": "stderr",
     "output_type": "stream",
     "text": [
      "WARNING: Method definition Derivative_order(Any, Any, Any, Any) in module Main at In[182]:2 overwritten at In[188]:2.\n",
      "WARNING: Method definition Derivative_order_rational_coefficients(Any, Any, Any, Any) in module Main at In[182]:11 overwritten at In[188]:11.\n"
     ]
    }
   ],
   "source": [
    "function Derivative_order(f,x,h,order)\n",
    "    g(x,h)=f(x)\n",
    "    der=0\n",
    "    for i in range(1,order)\n",
    "        g=finite_difference_symetric(g)\n",
    "        der=der+coeff_Taylor_arcseno(i)*g(x,h)\n",
    "    end\n",
    "    der/h\n",
    "end;\n",
    "function Derivative_order_rational_coefficients(f,x,h,order)\n",
    "    g(x,h)=f(x)\n",
    "    der=0\n",
    "    for i in range(1,order)\n",
    "        g=finite_difference_symetric(g)\n",
    "        der=der+coeff_Taylor_arcseno_rational(i)*g(x,h)\n",
    "    end\n",
    "    der/h\n",
    "end;"
   ]
  },
  {
   "cell_type": "code",
   "execution_count": 189,
   "metadata": {
    "scrolled": true
   },
   "outputs": [
    {
     "data": {
      "text/plain": [
       "0.5440211108893371"
      ]
     },
     "execution_count": 189,
     "metadata": {},
     "output_type": "execute_result"
    }
   ],
   "source": [
    "Derivative_order(cos,10.0,0.01,6)"
   ]
  },
  {
   "cell_type": "code",
   "execution_count": 190,
   "metadata": {},
   "outputs": [
    {
     "data": {
      "text/plain": [
       "0.5440211108893698"
      ]
     },
     "execution_count": 190,
     "metadata": {},
     "output_type": "execute_result"
    }
   ],
   "source": [
    "-sin(10.0)"
   ]
  },
  {
   "cell_type": "code",
   "execution_count": 127,
   "metadata": {
    "collapsed": true
   },
   "outputs": [],
   "source": [
    "f=SymFunction(\"f\");"
   ]
  },
  {
   "cell_type": "code",
   "execution_count": 128,
   "metadata": {},
   "outputs": [
    {
     "data": {
      "text/latex": [
       "$$\\frac{1}{4 h} \\left(- f{\\left (- h + x \\right )} + f{\\left (h + x \\right )}\\right)$$"
      ],
      "text/plain": [
       "-f(-h + x) + f(h + x)\n",
       "---------------------\n",
       "         4*h         "
      ]
     },
     "execution_count": 128,
     "metadata": {},
     "output_type": "execute_result"
    }
   ],
   "source": [
    "aprox=Derivative_order_rational_coefficients(SymFunction(\"f\"),Sym(\"x\"),Sym(\"h\"),1)"
   ]
  },
  {
   "cell_type": "code",
   "execution_count": 39,
   "metadata": {},
   "outputs": [
    {
     "data": {
      "text/latex": [
       "$$\\left. \\frac{d}{d \\xi_{1}} f{\\left (\\xi_{1} \\right )} \\right|_{\\substack{ \\xi_{1}=x }} + \\mathcal{O}\\left(h^{5}\\right)$$"
      ],
      "text/plain": [
       "/  d           \\|          / 5\\\n",
       "|-----(f(xi_1))||       + O\\h /\n",
       "\\dxi_1         /|xi_1=x        "
      ]
     },
     "execution_count": 39,
     "metadata": {},
     "output_type": "execute_result"
    }
   ],
   "source": [
    "series(aprox,Sym(\"h\"),0,5)"
   ]
  },
  {
   "cell_type": "code",
   "execution_count": 40,
   "metadata": {},
   "outputs": [
    {
     "data": {
      "text/latex": [
       "$$\\frac{1}{h} \\left(\\frac{1}{80 h} \\left(- \\frac{1}{2 h} \\left(- \\frac{1}{2 h} \\left(- \\frac{1}{2 h} \\left(- \\frac{1}{2 h} \\left(- 3 f{\\left (- 5 h + x \\right )} + 3 f{\\left (- 3 h + x \\right )}\\right) + \\frac{1}{2 h} \\left(- 3 f{\\left (- 3 h + x \\right )} + 3 f{\\left (- h + x \\right )}\\right)\\right) + \\frac{1}{2 h} \\left(- \\frac{1}{2 h} \\left(- 3 f{\\left (- 3 h + x \\right )} + 3 f{\\left (- h + x \\right )}\\right) + \\frac{1}{2 h} \\left(- 3 f{\\left (- h + x \\right )} + 3 f{\\left (h + x \\right )}\\right)\\right)\\right) + \\frac{1}{2 h} \\left(- \\frac{1}{2 h} \\left(- \\frac{1}{2 h} \\left(- 3 f{\\left (- 3 h + x \\right )} + 3 f{\\left (- h + x \\right )}\\right) + \\frac{1}{2 h} \\left(- 3 f{\\left (- h + x \\right )} + 3 f{\\left (h + x \\right )}\\right)\\right) + \\frac{1}{2 h} \\left(- \\frac{1}{2 h} \\left(- 3 f{\\left (- h + x \\right )} + 3 f{\\left (h + x \\right )}\\right) + \\frac{1}{2 h} \\left(- 3 f{\\left (h + x \\right )} + 3 f{\\left (3 h + x \\right )}\\right)\\right)\\right)\\right) + \\frac{1}{2 h} \\left(- \\frac{1}{2 h} \\left(- \\frac{1}{2 h} \\left(- \\frac{1}{2 h} \\left(- 3 f{\\left (- 3 h + x \\right )} + 3 f{\\left (- h + x \\right )}\\right) + \\frac{1}{2 h} \\left(- 3 f{\\left (- h + x \\right )} + 3 f{\\left (h + x \\right )}\\right)\\right) + \\frac{1}{2 h} \\left(- \\frac{1}{2 h} \\left(- 3 f{\\left (- h + x \\right )} + 3 f{\\left (h + x \\right )}\\right) + \\frac{1}{2 h} \\left(- 3 f{\\left (h + x \\right )} + 3 f{\\left (3 h + x \\right )}\\right)\\right)\\right) + \\frac{1}{2 h} \\left(- \\frac{1}{2 h} \\left(- \\frac{1}{2 h} \\left(- 3 f{\\left (- h + x \\right )} + 3 f{\\left (h + x \\right )}\\right) + \\frac{1}{2 h} \\left(- 3 f{\\left (h + x \\right )} + 3 f{\\left (3 h + x \\right )}\\right)\\right) + \\frac{1}{2 h} \\left(- \\frac{1}{2 h} \\left(- 3 f{\\left (h + x \\right )} + 3 f{\\left (3 h + x \\right )}\\right) + \\frac{1}{2 h} \\left(- 3 f{\\left (3 h + x \\right )} + 3 f{\\left (5 h + x \\right )}\\right)\\right)\\right)\\right)\\right) - \\frac{1}{12 h} \\left(- \\frac{1}{2 h} \\left(- \\frac{1}{2 h} \\left(- f{\\left (- 3 h + x \\right )} + f{\\left (- h + x \\right )}\\right) + \\frac{1}{2 h} \\left(- f{\\left (- h + x \\right )} + f{\\left (h + x \\right )}\\right)\\right) + \\frac{1}{2 h} \\left(- \\frac{1}{2 h} \\left(- f{\\left (- h + x \\right )} + f{\\left (h + x \\right )}\\right) + \\frac{1}{2 h} \\left(- f{\\left (h + x \\right )} + f{\\left (3 h + x \\right )}\\right)\\right)\\right) + \\frac{1}{2 h} \\left(- f{\\left (- h + x \\right )} + f{\\left (h + x \\right )}\\right)\\right)$$"
      ],
      "text/plain": [
       "  /        -f(-5*h + x) + f(-3*h + x)   -f(-3*h + x) + f(-h + x)     -f(-3*h +\n",
       "  |      - -------------------------- + ------------------------   - ---------\n",
       "  |                   2*h                         2*h                         \n",
       "  |    - ------------------------------------------------------- + -----------\n",
       "  |                                2*h                                        \n",
       "  |  - -----------------------------------------------------------------------\n",
       "  |                                                         2*h               \n",
       "3*|- -------------------------------------------------------------------------\n",
       "  \\                                                                           \n",
       "------------------------------------------------------------------------------\n",
       "                                                                              \n",
       "------------------------------------------------------------------------------\n",
       "                                                                              \n",
       "\n",
       " x) + f(-h + x)   -f(-h + x) + f(h + x)       -f(-3*h + x) + f(-h + x)   -f(-h\n",
       "--------------- + ---------------------     - ------------------------ + -----\n",
       " 2*h                       2*h                          2*h                   \n",
       "---------------------------------------   - ----------------------------------\n",
       "            2*h                                                    2*h        \n",
       "--------------------------------------- + ------------------------------------\n",
       "                                                                              \n",
       "------------------------------------------------------------------------------\n",
       "                                  2*h                                         \n",
       "------------------------------------------------------------------------------\n",
       "                                                                              \n",
       "------------------------------------------------------------------------------\n",
       "                                                                              \n",
       "\n",
       " + x) + f(h + x)     -f(-h + x) + f(h + x)   -f(h + x) + f(3*h + x)         -f\n",
       "----------------   - --------------------- + ----------------------       - --\n",
       "    2*h                       2*h                     2*h                     \n",
       "---------------- + ------------------------------------------------     - ----\n",
       "                                         2*h                                  \n",
       "-------------------------------------------------------------------   - ------\n",
       "              2*h                                                             \n",
       "------------------------------------------------------------------- + --------\n",
       "                                                                              \n",
       "------------------------------------------------------------------------------\n",
       "                                                              80*h            \n",
       "------------------------------------------------------------------------------\n",
       "                                                                              \n",
       "\n",
       "(-3*h + x) + f(-h + x)   -f(-h + x) + f(h + x)     -f(-h + x) + f(h + x)   -f(\n",
       "---------------------- + ---------------------   - --------------------- + ---\n",
       "        2*h                       2*h                       2*h               \n",
       "---------------------------------------------- + -----------------------------\n",
       "                   2*h                                                 2*h    \n",
       "------------------------------------------------------------------------------\n",
       "                                            2*h                               \n",
       "------------------------------------------------------------------------------\n",
       "                                                                              \n",
       "------------------------------------------------------------------------------\n",
       "                                                                              \n",
       "------------------------------------------------------------------------------\n",
       "                                                  h                           \n",
       "\n",
       "h + x) + f(3*h + x)       -f(-h + x) + f(h + x)   -f(h + x) + f(3*h + x)     -\n",
       "-------------------     - --------------------- + ----------------------   - -\n",
       "      2*h                          2*h                     2*h                \n",
       "-------------------   - ------------------------------------------------ + ---\n",
       "                                              2*h                             \n",
       "------------------- + --------------------------------------------------------\n",
       "                                                                        2*h   \n",
       "------------------------------------------------------------------------------\n",
       "                  2*h                                                         \n",
       "------------------------------------------------------------------------------\n",
       "                                                                              \n",
       "------------------------------------------------------------------------------\n",
       "                                                                              \n",
       "\n",
       "f(h + x) + f(3*h + x)   -f(3*h + x) + f(5*h + x)\\                             \n",
       "--------------------- + ------------------------|                             \n",
       "        2*h                       2*h           |                             \n",
       "------------------------------------------------|                             \n",
       "                     2*h                        |       -f(-3*h + x) + f(-h + \n",
       "------------------------------------------------|     - ----------------------\n",
       "                                                |                 2*h         \n",
       "------------------------------------------------|   - ------------------------\n",
       "                                                /                            2\n",
       "------------------------------------------------- - --------------------------\n",
       "                                                                              \n",
       "------------------------------------------------------------------------------\n",
       "                                                                              \n",
       "\n",
       "                                                                              \n",
       "                                                                              \n",
       "                                                                              \n",
       "                                                                              \n",
       "x)   -f(-h + x) + f(h + x)     -f(-h + x) + f(h + x)   -f(h + x) + f(3*h + x) \n",
       "-- + ---------------------   - --------------------- + ---------------------- \n",
       "              2*h                       2*h                     2*h           \n",
       "-------------------------- + ------------------------------------------------ \n",
       "*h                                                 2*h                        \n",
       "----------------------------------------------------------------------------- \n",
       "                        12*h                                                  \n",
       "------------------------------------------------------------------------------\n",
       "                                                                              \n",
       "\n",
       "                       \n",
       "                       \n",
       "                       \n",
       "                       \n",
       "                       \n",
       "                       \n",
       "                       \n",
       "                       \n",
       "  -f(-h + x) + f(h + x)\n",
       "+ ---------------------\n",
       "           2*h         \n",
       "-----------------------\n",
       "                       "
      ]
     },
     "execution_count": 40,
     "metadata": {},
     "output_type": "execute_result"
    }
   ],
   "source": [
    "aprox=Derivative_order_rational_coefficients(SymFunction(\"f\"),Sym(\"x\"),Sym(\"h\"),5)"
   ]
  },
  {
   "cell_type": "code",
   "execution_count": 41,
   "metadata": {},
   "outputs": [
    {
     "data": {
      "text/latex": [
       "$$\\frac{1}{h} \\left(\\left. \\frac{d}{d \\xi_{1}} f{\\left (\\xi_{1} \\right )} \\right|_{\\substack{ \\xi_{1}=x }} - \\frac{1}{6} \\left. \\frac{d^{3}}{d \\xi_{1}^{3}}  f{\\left (\\xi_{1} \\right )} \\right|_{\\substack{ \\xi_{1}=x }} + \\frac{3}{40} \\left. \\frac{d^{5}}{d \\xi_{1}^{5}}  f{\\left (\\xi_{1} \\right )} \\right|_{\\substack{ \\xi_{1}=x }}\\right) + h \\left(\\frac{1}{6} \\left. \\frac{d^{3}}{d \\xi_{1}^{3}}  f{\\left (\\xi_{1} \\right )} \\right|_{\\substack{ \\xi_{1}=x }} - \\frac{1}{12} \\left. \\frac{d^{5}}{d \\xi_{1}^{5}}  f{\\left (\\xi_{1} \\right )} \\right|_{\\substack{ \\xi_{1}=x }} + \\frac{1}{16} \\left. \\frac{d^{7}}{d \\xi_{1}^{7}}  f{\\left (\\xi_{1} \\right )} \\right|_{\\substack{ \\xi_{1}=x }}\\right) + h^{3} \\left(\\frac{1}{120} \\left. \\frac{d^{5}}{d \\xi_{1}^{5}}  f{\\left (\\xi_{1} \\right )} \\right|_{\\substack{ \\xi_{1}=x }} - \\frac{13}{720} \\left. \\frac{d^{7}}{d \\xi_{1}^{7}}  f{\\left (\\xi_{1} \\right )} \\right|_{\\substack{ \\xi_{1}=x }} + \\frac{23}{960} \\left. \\frac{d^{9}}{d \\xi_{1}^{9}}  f{\\left (\\xi_{1} \\right )} \\right|_{\\substack{ \\xi_{1}=x }}\\right) + h^{5} \\left(\\frac{1}{5040} \\left. \\frac{d^{7}}{d \\xi_{1}^{7}}  f{\\left (\\xi_{1} \\right )} \\right|_{\\substack{ \\xi_{1}=x }} - \\frac{41}{18144} \\left. \\frac{d^{9}}{d \\xi_{1}^{9}}  f{\\left (\\xi_{1} \\right )} \\right|_{\\substack{ \\xi_{1}=x }} + \\frac{227}{40320} \\left. \\frac{d^{11}}{d \\xi_{1}^{11}}  f{\\left (\\xi_{1} \\right )} \\right|_{\\substack{ \\xi_{1}=x }}\\right) + \\mathcal{O}\\left(h^{6}\\right)$$"
      ],
      "text/plain": [
       "                          /   3           \\|           /   5           \\|     \n",
       "                          |  d            ||           |  d            ||     \n",
       "                          |------(f(xi_1))||         3*|------(f(xi_1))||     \n",
       "                          |     3         ||           |     5         ||     \n",
       "/  d           \\|         \\dxi_1          /|xi_1=x     \\dxi_1          /|xi_1=\n",
       "|-----(f(xi_1))||       - ------------------------ + -------------------------\n",
       "\\dxi_1         /|xi_1=x              6                           40           \n",
       "------------------------------------------------------------------------------\n",
       "                                       h                                      \n",
       "\n",
       "                                                                              \n",
       "                                                                              \n",
       "      //   3           \\|         /   5           \\|         /   7           \\\n",
       "      ||  d            ||         |  d            ||         |  d            |\n",
       "x     ||------(f(xi_1))||         |------(f(xi_1))||         |------(f(xi_1))|\n",
       "-     ||     3         ||         |     5         ||         |     7         |\n",
       "      |\\dxi_1          /|xi_1=x   \\dxi_1          /|xi_1=x   \\dxi_1          /\n",
       "- + h*|------------------------ - ------------------------ + -----------------\n",
       "      \\           6                          12                         16    \n",
       "\n",
       "                                                                              \n",
       "                                                                              \n",
       "|      \\      //   5           \\|            /   7           \\|            /  \n",
       "|      |      ||  d            ||            |  d            ||            |  \n",
       "|      |      ||------(f(xi_1))||         13*|------(f(xi_1))||         23*|--\n",
       "|      |      ||     5         ||            |     7         ||            |  \n",
       "|xi_1=x|    3 |\\dxi_1          /|xi_1=x      \\dxi_1          /|xi_1=x      \\dx\n",
       "-------| + h *|------------------------ - --------------------------- + ------\n",
       "       /      \\          120                          720                     \n",
       "\n",
       "                                                                              \n",
       "                                                                              \n",
       " 9           \\|      \\      //   7           \\|            /   9           \\| \n",
       "d            ||      |      ||  d            ||            |  d            || \n",
       "----(f(xi_1))||      |      ||------(f(xi_1))||         41*|------(f(xi_1))|| \n",
       "   9         ||      |      ||     7         ||            |     9         || \n",
       "i_1          /|xi_1=x|    5 |\\dxi_1          /|xi_1=x      \\dxi_1          /|x\n",
       "---------------------| + h *|------------------------ - ----------------------\n",
       "      960            /      \\          5040                        18144      \n",
       "\n",
       "                                              \n",
       "                                              \n",
       "            /   11           \\|      \\        \n",
       "            |  d             ||      |        \n",
       "        227*|-------(f(xi_1))||      |        \n",
       "            |     11         ||      |        \n",
       "i_1=x       \\dxi_1           /|xi_1=x|    / 6\\\n",
       "----- + -----------------------------| + O\\h /\n",
       "                    40320            /        "
      ]
     },
     "execution_count": 41,
     "metadata": {},
     "output_type": "execute_result"
    }
   ],
   "source": [
    "series(aprox,Sym(\"h\"),0,6)"
   ]
  },
  {
   "cell_type": "code",
   "execution_count": null,
   "metadata": {
    "collapsed": true
   },
   "outputs": [],
   "source": []
  }
 ],
 "metadata": {
  "kernelspec": {
   "display_name": "Julia 0.5.2",
   "language": "julia",
   "name": "julia-0.5"
  },
  "language_info": {
   "file_extension": ".jl",
   "mimetype": "application/julia",
   "name": "julia",
   "version": "0.5.2"
  }
 },
 "nbformat": 4,
 "nbformat_minor": 2
}
