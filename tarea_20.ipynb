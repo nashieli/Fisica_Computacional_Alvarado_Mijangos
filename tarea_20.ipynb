{
 "cells": [
  {
   "cell_type": "markdown",
   "metadata": {},
   "source": [
    "Tarea 20: Ejercicio 1 (Jueves 9 de Noviembre): Crear una rutina que construya $A$ y $\\vec b$ para este sistema. Resuelvalo utilizando la función inv y grafique $\\vec f$ utilizando la funcion pcolormesh. Recuerde que aqui $\\vec f$ es un vector, para volverlo de nuevo una matriz con entradas $f_{i,j}$ pueden usar la función reshape"
   ]
  },
  {
   "cell_type": "markdown",
   "metadata": {},
   "source": [
    "A continuación se realiza una rutina  que permite hallar a la matriz A para ello, se asignan los valores que debe tomar cada elemento de la matriz."
   ]
  },
  {
   "cell_type": "code",
   "execution_count": 12,
   "metadata": {},
   "outputs": [
    {
     "data": {
      "text/plain": [
       "0"
      ]
     },
     "execution_count": 12,
     "metadata": {},
     "output_type": "execute_result"
    }
   ],
   "source": [
    "    f = zeros(225) #Se crea un vector de 225 ceros.\n",
    "    \n",
    "    i = 1 #Se inicia el valor del índice que corresponde a los elementos \n",
    "    #de la matriz cuyo valor es -4.\n",
    "    \n",
    "    while i < 226 #Se asigna el valor -4 a los índices de la diagonal.\n",
    "        f[i] = -4\n",
    "        i = i + 16\n",
    "    end\n",
    "\n",
    "    j = 2 #Se inicia el valor del índice que corresponde a los elementos \n",
    "    #de la matriz cuyo valor es 1.\n",
    "    \n",
    "    while j < 211 #Se asigna el valor 1 a los índices abajo de la diagonal.\n",
    "        f[j] = 1\n",
    "        j = j + 16\n",
    "    end\n",
    "    \n",
    "    k = 16 #Se inicia el valor del índice que corresponde a los elementos \n",
    "    #de la matriz cuyo valor es 1 (en este caso se inicia en 16 pues es el \n",
    "    #primer elemento arriba de la diagonal).\n",
    "    \n",
    "    while  k < 225 #En este caso, se asigna el valor 1 también, pero a los \n",
    "    #índices arriba de la diagonal.\n",
    "        f[k] = 1\n",
    "        k = k + 16\n",
    "    end\n",
    "\n",
    "    l = 6 #Se inicia el valor del índice que corresponde a los elementos \n",
    "    #de la matriz cuyo valor es 1.\n",
    "\n",
    "    while l < 151 #En este caso se asigna el valor 1 a los elementos que \n",
    "    #están 5 lugares abajo de la diagonal.\n",
    "        f[l] = 1\n",
    "        l = l + 16\n",
    "    end\n",
    "\n",
    "    m = 76 #Se inicia el valor del índice que corresponde a los elementos \n",
    "    #de la matriz cuyo valor es 1.\n",
    "\n",
    "    while m < 221 #En este caso se asigna el valor 1 a los elementos que \n",
    "    #están 5 lugares arriba de la diagonal.\n",
    "        f[m] = 1\n",
    "        m = m + 16\n",
    "    end\n",
    "\n",
    "    #Por último, se hacen correcciones del llenado anterior para que \n",
    "    #se tenga la forma de la matriz dada, es decir, que sean 9 bloques,\n",
    "    #es decir, tres matrices de Jordan en la diagonal, 4 identidades y 2\n",
    "    #matrices de ceros.\n",
    "\n",
    "    f[66] = 0\n",
    "    f[80] = 0\n",
    "    f[146] = 0\n",
    "    f[160] = 0\n",
    "\n",
    "    A = reshape(f,(15,15)) #Se utiliza la función reshape para construir la\n",
    "    #matriz de 15x15 a partir del vector que construimos."
   ]
  },
  {
   "cell_type": "code",
   "execution_count": 14,
   "metadata": {},
   "outputs": [
    {
     "data": {
      "text/plain": [
       "70.7101"
      ]
     },
     "execution_count": 14,
     "metadata": {},
     "output_type": "execute_result"
    }
   ],
   "source": [
    "#Se construye el vector b con 14 ceros excepto en los elementos 5, 10 y 15.\n",
    "    b = zeros(15)\n",
    "\n",
    "    b[5] = 70.7101\n",
    "    b[10] = 100\n",
    "    b[15] = 70.7101"
   ]
  },
  {
   "cell_type": "code",
   "execution_count": 15,
   "metadata": {},
   "outputs": [
    {
     "data": {
      "text/plain": [
       "15-element Array{Float64,1}:\n",
       "  1.30458\n",
       "  3.37337\n",
       "  7.41824\n",
       " 15.8086 \n",
       " 33.4594 \n",
       "  1.84496\n",
       "  4.77067\n",
       " 10.491  \n",
       " 22.3568 \n",
       " 47.3189 \n",
       "  1.30458\n",
       "  3.37337\n",
       "  7.41824\n",
       " 15.8086 \n",
       " 33.4594 "
      ]
     },
     "execution_count": 15,
     "metadata": {},
     "output_type": "execute_result"
    }
   ],
   "source": [
    "g = -inv(A) * b #Se halla la solución del sistema de ecuaciones multiplicando\n",
    "#la inversa de la matriz A y el vector columna b."
   ]
  },
  {
   "cell_type": "code",
   "execution_count": 16,
   "metadata": {},
   "outputs": [
    {
     "data": {
      "text/plain": [
       "5x3 Array{Float64,2}:\n",
       "  1.30458   1.84496   1.30458\n",
       "  3.37337   4.77067   3.37337\n",
       "  7.41824  10.491     7.41824\n",
       " 15.8086   22.3568   15.8086 \n",
       " 33.4594   47.3189   33.4594 "
      ]
     },
     "execution_count": 16,
     "metadata": {},
     "output_type": "execute_result"
    }
   ],
   "source": [
    "r = reshape(g,(5,3)) #Se utiliza la función reshape para construir la\n",
    "    #matriz de 5x3 a partir del vector solución obtenido."
   ]
  },
  {
   "cell_type": "code",
   "execution_count": 17,
   "metadata": {
    "collapsed": true
   },
   "outputs": [],
   "source": [
    "using PyPlot"
   ]
  },
  {
   "cell_type": "code",
   "execution_count": 18,
   "metadata": {},
   "outputs": [
    {
     "data": {
      "image/png": "[encoded data removed]",
      "text/plain": [
       "PyPlot.Figure(PyObject <matplotlib.figure.Figure object at 0x7f8bab9b4b10>)"
      ]
     },
     "metadata": {},
     "output_type": "display_data"
    },
    {
     "data": {
      "text/plain": [
       "PyObject <matplotlib.collections.QuadMesh object at 0x7f8bab813990>"
      ]
     },
     "execution_count": 18,
     "metadata": {},
     "output_type": "execute_result"
    }
   ],
   "source": [
    "pcolormesh(r) #Se grafica la matriz de 5x3 construida a partir del vector \n",
    "#solución del sistema de ecuaciones. Se puede observar un máximo en la frontera\n",
    "#y un difuminamiento a los extremos por la forma del vector b. "
   ]
  },
  {
   "cell_type": "code",
   "execution_count": null,
   "metadata": {
    "collapsed": true
   },
   "outputs": [],
   "source": []
  }
 ],
 "metadata": {
  "kernelspec": {
   "display_name": "Julia 0.4.5",
   "language": "julia",
   "name": "julia-0.4"
  },
  "language_info": {
   "file_extension": ".jl",
   "mimetype": "application/julia",
   "name": "julia",
   "version": "0.4.5"
  }
 },
 "nbformat": 4,
 "nbformat_minor": 2
}
