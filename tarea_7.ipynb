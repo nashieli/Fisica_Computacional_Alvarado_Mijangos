{
 "cells": [
  {
   "cell_type": "code",
   "execution_count": 129,
   "metadata": {
    "collapsed": true
   },
   "outputs": [],
   "source": [
    "using SymPy\n"
   ]
  },
  {
   "cell_type": "code",
   "execution_count": 11,
   "metadata": {},
   "outputs": [
    {
     "data": {
      "text/plain": [
       "productorio (generic function with 1 method)"
      ]
     },
     "execution_count": 11,
     "metadata": {},
     "output_type": "execute_result"
    }
   ],
   "source": [
    "function productorio(listx,x,j) #Se crea la función productorio que toma como entradas una lista de puntos, la \n",
    "    #variable y un elemento j.\n",
    "    producto = 1\n",
    "    for m in 1:length(listx) #Se le da un intervalo a m desde 1 hasta el número de puntos de la lista.\n",
    "        if m != j\n",
    "            producto = producto*(x - listx[m]) / (listx[j] - listx[m]) #Se realizan las bases polinomiales  \n",
    "            #de Lagrange\n",
    "        end\n",
    "    end\n",
    "    return producto #Se regresa el valor del producto para el elemento j.\n",
    "end\n",
    "      \n",
    "    "
   ]
  },
  {
   "cell_type": "code",
   "execution_count": 17,
   "metadata": {},
   "outputs": [
    {
     "data": {
      "text/plain": [
       "interpolacionlagrange (generic function with 1 method)"
      ]
     },
     "execution_count": 17,
     "metadata": {},
     "output_type": "execute_result"
    }
   ],
   "source": [
    "function interpolacionlagrange(listx,listy,x)#Se crea una función que toma como entradas dos listas de puntos.\n",
    "    L = 0\n",
    "    for j in 1:length(listx) #Se asigna un intervalo a j.\n",
    "        L += listy[j]*productorio(listx,x,j) #Se realiza la combinación lineal que es la interpolación polinomial\n",
    "        #en la forma de Lagrange.\n",
    "    end\n",
    "    return L #Se regresa el valor de la interpolación.\n",
    "end"
   ]
  },
  {
   "cell_type": "code",
   "execution_count": 18,
   "metadata": {},
   "outputs": [
    {
     "data": {
      "text/plain": [
       "interpolador (generic function with 1 method)"
      ]
     },
     "execution_count": 18,
     "metadata": {},
     "output_type": "execute_result"
    }
   ],
   "source": [
    "function interpolador(x,f,xi,xf,n) #Se crea una función cuyas entradas son una función cualquiera, un intervalo \n",
    "    #dado y un número de divisiones del intervalo. \n",
    "    listx = linspace(xi,xf,n) #Se define una lista de puntos donde se especifica el intervalo y el número de \n",
    "    #divisiones de éste.\n",
    "    listy = f(listx) #Se crea una función cuya entrada es la lista anterior.\n",
    "    p = interpolacionlagrange(listx,listy,x) #Se define p como la función que se creó anteriormente.\n",
    "    return p #Se regresa el valor de p.\n",
    "end\n",
    "   "
   ]
  },
  {
   "cell_type": "code",
   "execution_count": 19,
   "metadata": {
    "collapsed": true
   },
   "outputs": [],
   "source": [
    "using PyPlot\n"
   ]
  },
  {
   "cell_type": "code",
   "execution_count": 116,
   "metadata": {
    "collapsed": true
   },
   "outputs": [],
   "source": [
    "interpolacion = [] #Se crea un vector.\n",
    "for x in linspace(0,2pi,50) #Se asigna un intervalo a x y el número de divisiones de éste.\n",
    "    push!(interpolacion,interpolador(x,cos,0,2*pi,10)) #Se guardan en el vector que creamos los valores de la \n",
    "    #función interpolador para una función, un intervalo y un número de divisiones del intervalo dados. \n",
    "end"
   ]
  },
  {
   "cell_type": "code",
   "execution_count": 29,
   "metadata": {},
   "outputs": [
    {
     "data": {
      "text/plain": [
       "50-element Array{Any,1}:\n",
       "    1.0      \n",
       "    0.967547 \n",
       "    0.871414 \n",
       "    0.718328 \n",
       "    0.518354 \n",
       "    0.284516 \n",
       "    0.0320615\n",
       "   -0.222509 \n",
       "   -0.462537 \n",
       "   -0.672307 \n",
       "   -0.838094 \n",
       "   -0.949055 \n",
       "   -0.99794  \n",
       "    ⋮        \n",
       "  -17.3197   \n",
       "  -25.2163   \n",
       "  -36.2792   \n",
       "  -51.5638   \n",
       "  -72.3929   \n",
       " -100.405    \n",
       " -137.608    \n",
       " -186.44     \n",
       " -249.838    \n",
       " -331.311    \n",
       " -435.022    \n",
       " -565.881    "
      ]
     },
     "execution_count": 29,
     "metadata": {},
     "output_type": "execute_result"
    }
   ],
   "source": [
    "interpolacion #Se presenta el vector interpolación."
   ]
  },
  {
   "cell_type": "code",
   "execution_count": 117,
   "metadata": {},
   "outputs": [
    {
     "data": {
      "text/plain": [
       "linspace(0.0,6.283185307179586,50)"
      ]
     },
     "execution_count": 117,
     "metadata": {},
     "output_type": "execute_result"
    }
   ],
   "source": [
    "x = linspace(0,2pi,50) #Se define una lista de puntos en el intervalo de 0 a 2pi con 50 divisiones."
   ]
  },
  {
   "cell_type": "code",
   "execution_count": 118,
   "metadata": {},
   "outputs": [
    {
     "data": {
      "text/plain": [
       "10-element Array{Float64,1}:\n",
       "  1.0     \n",
       "  0.766044\n",
       "  0.173648\n",
       " -0.5     \n",
       " -0.939693\n",
       " -0.939693\n",
       " -0.5     \n",
       "  0.173648\n",
       "  0.766044\n",
       "  1.0     "
      ]
     },
     "execution_count": 118,
     "metadata": {},
     "output_type": "execute_result"
    }
   ],
   "source": [
    "y = cos(linspace(0,2pi,10)) #Se crea una lista de puntos que son la evaluación de la función coseno en los \n",
    "#elementos de la lista con intervalo 0 a 2pi cuya división es de 10 puntos."
   ]
  },
  {
   "cell_type": "code",
   "execution_count": 119,
   "metadata": {},
   "outputs": [
    {
     "data": {
      "image/png": "[encoded data removed]",
      "text/plain": [
       "PyPlot.Figure(PyObject <matplotlib.figure.Figure object at 0x7f6ede06e690>)"
      ]
     },
     "metadata": {},
     "output_type": "display_data"
    }
   ],
   "source": [
    "plot(linspace(0,2pi,10),y,\".\") #Se grafican los 10 puntos en el intervalo 0 a 2pi.\n",
    "plot(x,interpolacion) #Se grafica a su vez la interpolación que ajusta estos puntos.\n",
    "ylim(-3,3)\n",
    "show();"
   ]
  },
  {
   "cell_type": "code",
   "execution_count": 41,
   "metadata": {},
   "outputs": [
    {
     "ename": "LoadError",
     "evalue": "syntax: expected \"(\" in function definition",
     "output_type": "error",
     "traceback": [
      "syntax: expected \"(\" in function definition",
      ""
     ]
    }
   ],
   "source": [
    "function cosenocuadrado(x) #Se define la función coseno cuadrado.\n",
    "    x = (cos(x))^2\n",
    "    return x\n",
    "end"
   ]
  },
  {
   "cell_type": "code",
   "execution_count": 42,
   "metadata": {
    "collapsed": true
   },
   "outputs": [],
   "source": [
    "y = [] #Se crea un vector \n",
    "for x in linspace(0,2pi,10) \n",
    "    push!(y,cosenocuadrado(x)) #Se guardan en el vector \"y\" los valores de la función coseno cuadrado del \n",
    "    #intervalo 0 a 2pi con división de 10 puntos.\n",
    "end\n"
   ]
  },
  {
   "cell_type": "code",
   "execution_count": 44,
   "metadata": {},
   "outputs": [
    {
     "data": {
      "text/plain": [
       "10-element Array{Any,1}:\n",
       " 1.0      \n",
       " 0.586824 \n",
       " 0.0301537\n",
       " 0.25     \n",
       " 0.883022 \n",
       " 0.883022 \n",
       " 0.25     \n",
       " 0.0301537\n",
       " 0.586824 \n",
       " 1.0      "
      ]
     },
     "execution_count": 44,
     "metadata": {},
     "output_type": "execute_result"
    }
   ],
   "source": [
    "y #Se muestra el vector \"y\"\n"
   ]
  },
  {
   "cell_type": "code",
   "execution_count": 120,
   "metadata": {
    "collapsed": true
   },
   "outputs": [],
   "source": [
    "interpolacion = [] #Se crea otro vector que guarde los valores de la función interpolacionlagrange evaluados en \n",
    "#el intervalo de 0 a 2pi con 10 divisiones.\n",
    "for x in linspace(0,2pi,50)\n",
    "    push!(interpolacion,interpolacionlagrange(linspace(0,2pi,10),y,x))\n",
    "end"
   ]
  },
  {
   "cell_type": "code",
   "execution_count": 51,
   "metadata": {},
   "outputs": [
    {
     "data": {
      "text/plain": [
       "50-element Array{Any,1}:\n",
       "    1.0       \n",
       "    0.896446  \n",
       "    0.810862  \n",
       "    0.687183  \n",
       "    0.521922  \n",
       "    0.338984  \n",
       "    0.171715  \n",
       "    0.0509671 \n",
       "   -0.00195408\n",
       "    0.0215323 \n",
       "    0.117027  \n",
       "    0.268993  \n",
       "    0.453944  \n",
       "    ⋮         \n",
       "   15.3455    \n",
       "   27.1097    \n",
       "   45.8655    \n",
       "   74.6061    \n",
       "  117.236     \n",
       "  178.764     \n",
       "  265.529     \n",
       "  385.446     \n",
       "  548.293     \n",
       "  766.032     \n",
       " 1053.17      \n",
       " 1427.13      "
      ]
     },
     "execution_count": 51,
     "metadata": {},
     "output_type": "execute_result"
    }
   ],
   "source": [
    "interpolacion #Se muestra el vector."
   ]
  },
  {
   "cell_type": "code",
   "execution_count": 122,
   "metadata": {},
   "outputs": [
    {
     "data": {
      "image/png": "[encoded data removed]",
      "text/plain": [
       "PyPlot.Figure(PyObject <matplotlib.figure.Figure object at 0x7f6ede2411d0>)"
      ]
     },
     "metadata": {},
     "output_type": "display_data"
    }
   ],
   "source": [
    "plot(linspace(0,2pi,10),y,\".\") #Se grafican los 10 puntos del intervalo 0 a 2pi dados para la función coseno \n",
    "#cuadrado.\n",
    "plot(linspace(0,2pi,50),interpolacion) #Se grafica la interpolación de los 10 puntos.\n",
    "ylim(-2,2)\n",
    "show();"
   ]
  },
  {
   "cell_type": "code",
   "execution_count": 106,
   "metadata": {
    "collapsed": true
   },
   "outputs": [],
   "source": [
    "interpolacion = [] #Se define otro vector que guardará la interpolación de siete puntos dados.\n",
    "for x in linspace(0,7,100)\n",
    "    push!(interpolacion,interpolacionlagrange([0,2,3,4,5,6,7],[10,-10,-4,0,5,20,-1],x))\n",
    "end"
   ]
  },
  {
   "cell_type": "code",
   "execution_count": 107,
   "metadata": {},
   "outputs": [
    {
     "data": {
      "text/plain": [
       "linspace(0.0,7.0,100)"
      ]
     },
     "execution_count": 107,
     "metadata": {},
     "output_type": "execute_result"
    }
   ],
   "source": [
    "x = linspace(0,7,100) #Se crea una lista de puntos que sirven para poder graficar la función interpoladora."
   ]
  },
  {
   "cell_type": "code",
   "execution_count": 112,
   "metadata": {},
   "outputs": [
    {
     "data": {
      "image/png": "[encoded data removed]",
      "text/plain": [
       "PyPlot.Figure(PyObject <matplotlib.figure.Figure object at 0x7f6ede0bfcd0>)"
      ]
     },
     "metadata": {},
     "output_type": "display_data"
    }
   ],
   "source": [
    "plot([0,2,3,4,5,6,7],[10,-10,-4,0,5,20,-1],\".\") #Se grafican los siete puntos dados. \n",
    "plot(x,interpolacion) #Se grafica la función interpoladora de dichos puntos.\n",
    "ylim(-11,23)\n",
    "show();"
   ]
  },
  {
   "cell_type": "code",
   "execution_count": 113,
   "metadata": {},
   "outputs": [
    {
     "data": {
      "text/latex": [
       "$$0.000482277735278589 x \\left(x - 6.28318530717959\\right) \\left(x - 5.58505360638185\\right) \\left(x - 4.88692190558412\\right) \\left(x - 4.18879020478639\\right) \\left(x - 3.49065850398866\\right) \\left(x - 2.79252680319093\\right) \\left(x - 2.0943951023932\\right) \\left(x - 1.39626340159546\\right) - 0.000437293948740017 x \\left(x - 6.28318530717959\\right) \\left(x - 5.58505360638185\\right) \\left(x - 4.88692190558412\\right) \\left(x - 4.18879020478639\\right) \\left(x - 3.49065850398866\\right) \\left(x - 2.79252680319093\\right) \\left(x - 2.0943951023932\\right) \\left(x - 0.698131700797732\\right) - 0.00293798806520488 x \\left(x - 6.28318530717959\\right) \\left(x - 5.58505360638185\\right) \\left(x - 4.88692190558412\\right) \\left(x - 4.18879020478639\\right) \\left(x - 3.49065850398866\\right) \\left(x - 2.79252680319093\\right) \\left(x - 1.39626340159546\\right) \\left(x - 0.698131700797732\\right) + 0.0082824171144903 x \\left(x - 6.28318530717959\\right) \\left(x - 5.58505360638185\\right) \\left(x - 4.88692190558412\\right) \\left(x - 4.18879020478639\\right) \\left(x - 3.49065850398866\\right) \\left(x - 2.0943951023932\\right) \\left(x - 1.39626340159546\\right) \\left(x - 0.698131700797732\\right) - 0.0082824171144903 x \\left(x - 6.28318530717959\\right) \\left(x - 5.58505360638185\\right) \\left(x - 4.88692190558412\\right) \\left(x - 4.18879020478639\\right) \\left(x - 2.79252680319093\\right) \\left(x - 2.0943951023932\\right) \\left(x - 1.39626340159546\\right) \\left(x - 0.698131700797732\\right) + 0.00293798806520489 x \\left(x - 6.28318530717959\\right) \\left(x - 5.58505360638185\\right) \\left(x - 4.88692190558412\\right) \\left(x - 3.49065850398866\\right) \\left(x - 2.79252680319093\\right) \\left(x - 2.0943951023932\\right) \\left(x - 1.39626340159546\\right) \\left(x - 0.698131700797732\\right) + 0.000437293948740015 x \\left(x - 6.28318530717959\\right) \\left(x - 5.58505360638185\\right) \\left(x - 4.18879020478639\\right) \\left(x - 3.49065850398866\\right) \\left(x - 2.79252680319093\\right) \\left(x - 2.0943951023932\\right) \\left(x - 1.39626340159546\\right) \\left(x - 0.698131700797732\\right) - 0.000482277735278588 x \\left(x - 6.28318530717959\\right) \\left(x - 4.88692190558412\\right) \\left(x - 4.18879020478639\\right) \\left(x - 3.49065850398866\\right) \\left(x - 2.79252680319093\\right) \\left(x - 2.0943951023932\\right) \\left(x - 1.39626340159546\\right) \\left(x - 0.698131700797732\\right) + 6.99520967905925 \\cdot 10^{-5} x \\left(x - 5.58505360638185\\right) \\left(x - 4.88692190558412\\right) \\left(x - 4.18879020478639\\right) \\left(x - 3.49065850398866\\right) \\left(x - 2.79252680319093\\right) \\left(x - 2.0943951023932\\right) \\left(x - 1.39626340159546\\right) \\left(x - 0.698131700797732\\right) + 4.88357763067839 \\cdot 10^{-5} \\left(- 1.43239448782706 x + 1.0\\right) \\left(x - 6.28318530717959\\right) \\left(x - 5.58505360638185\\right) \\left(x - 4.88692190558412\\right) \\left(x - 4.18879020478639\\right) \\left(x - 3.49065850398866\\right) \\left(x - 2.79252680319093\\right) \\left(x - 2.0943951023932\\right) \\left(x - 1.39626340159546\\right)$$"
      ],
      "text/plain": [
       "0.000482277735278589*x*(x - 6.28318530717959)*(x - 5.58505360638185)*(x - 4.88\n",
       "692190558412)*(x - 4.18879020478639)*(x - 3.49065850398866)*(x - 2.79252680319\n",
       "093)*(x - 2.0943951023932)*(x - 1.39626340159546) - 0.000437293948740017*x*(x \n",
       "- 6.28318530717959)*(x - 5.58505360638185)*(x - 4.88692190558412)*(x - 4.18879\n",
       "020478639)*(x - 3.49065850398866)*(x - 2.79252680319093)*(x - 2.0943951023932)\n",
       "*(x - 0.698131700797732) - 0.00293798806520488*x*(x - 6.28318530717959)*(x - 5\n",
       ".58505360638185)*(x - 4.88692190558412)*(x - 4.18879020478639)*(x - 3.49065850\n",
       "398866)*(x - 2.79252680319093)*(x - 1.39626340159546)*(x - 0.698131700797732) \n",
       "+ 0.0082824171144903*x*(x - 6.28318530717959)*(x - 5.58505360638185)*(x - 4.88\n",
       "692190558412)*(x - 4.18879020478639)*(x - 3.49065850398866)*(x - 2.09439510239\n",
       "32)*(x - 1.39626340159546)*(x - 0.698131700797732) - 0.0082824171144903*x*(x -\n",
       " 6.28318530717959)*(x - 5.58505360638185)*(x - 4.88692190558412)*(x - 4.188790\n",
       "20478639)*(x - 2.79252680319093)*(x - 2.0943951023932)*(x - 1.39626340159546)*\n",
       "(x - 0.698131700797732) + 0.00293798806520489*x*(x - 6.28318530717959)*(x - 5.\n",
       "58505360638185)*(x - 4.88692190558412)*(x - 3.49065850398866)*(x - 2.792526803\n",
       "19093)*(x - 2.0943951023932)*(x - 1.39626340159546)*(x - 0.698131700797732) + \n",
       "0.000437293948740015*x*(x - 6.28318530717959)*(x - 5.58505360638185)*(x - 4.18\n",
       "879020478639)*(x - 3.49065850398866)*(x - 2.79252680319093)*(x - 2.09439510239\n",
       "32)*(x - 1.39626340159546)*(x - 0.698131700797732) - 0.000482277735278588*x*(x\n",
       " - 6.28318530717959)*(x - 4.88692190558412)*(x - 4.18879020478639)*(x - 3.4906\n",
       "5850398866)*(x - 2.79252680319093)*(x - 2.0943951023932)*(x - 1.39626340159546\n",
       ")*(x - 0.698131700797732) + 6.99520967905925e-5*x*(x - 5.58505360638185)*(x - \n",
       "4.88692190558412)*(x - 4.18879020478639)*(x - 3.49065850398866)*(x - 2.7925268\n",
       "0319093)*(x - 2.0943951023932)*(x - 1.39626340159546)*(x - 0.698131700797732) \n",
       "+ 4.88357763067839e-5*(-1.43239448782706*x + 1.0)*(x - 6.28318530717959)*(x - \n",
       "5.58505360638185)*(x - 4.88692190558412)*(x - 4.18879020478639)*(x - 3.4906585\n",
       "0398866)*(x - 2.79252680319093)*(x - 2.0943951023932)*(x - 1.39626340159546)"
      ]
     },
     "execution_count": 113,
     "metadata": {},
     "output_type": "execute_result"
    }
   ],
   "source": [
    "x = Sym(\"x\") #Se define una variable simbólica.\n",
    "interpolador(x,cos,0,2*pi,10) #Se evalúa la función interpoladora en la variable simbólica para el caso del coseno. "
   ]
  },
  {
   "cell_type": "code",
   "execution_count": 114,
   "metadata": {},
   "outputs": [
    {
     "data": {
      "text/latex": [
       "$$0.000369446179150168 x \\left(x - 6.28318530717959\\right) \\left(x - 5.58505360638185\\right) \\left(x - 4.88692190558412\\right) \\left(x - 4.18879020478639\\right) \\left(x - 3.49065850398866\\right) \\left(x - 2.79252680319093\\right) \\left(x - 2.0943951023932\\right) \\left(x - 1.39626340159546\\right) - 7.593529730348 \\cdot 10^{-5} x \\left(x - 6.28318530717959\\right) \\left(x - 5.58505360638185\\right) \\left(x - 4.88692190558412\\right) \\left(x - 4.18879020478639\\right) \\left(x - 3.49065850398866\\right) \\left(x - 2.79252680319093\\right) \\left(x - 2.0943951023932\\right) \\left(x - 0.698131700797732\\right) + 0.00146899403260244 x \\left(x - 6.28318530717959\\right) \\left(x - 5.58505360638185\\right) \\left(x - 4.88692190558412\\right) \\left(x - 4.18879020478639\\right) \\left(x - 3.49065850398866\\right) \\left(x - 2.79252680319093\\right) \\left(x - 1.39626340159546\\right) \\left(x - 0.698131700797732\\right) - 0.00778292624475745 x \\left(x - 6.28318530717959\\right) \\left(x - 5.58505360638185\\right) \\left(x - 4.88692190558412\\right) \\left(x - 4.18879020478639\\right) \\left(x - 3.49065850398866\\right) \\left(x - 2.0943951023932\\right) \\left(x - 1.39626340159546\\right) \\left(x - 0.698131700797732\\right) + 0.00778292624475745 x \\left(x - 6.28318530717959\\right) \\left(x - 5.58505360638185\\right) \\left(x - 4.88692190558412\\right) \\left(x - 4.18879020478639\\right) \\left(x - 2.79252680319093\\right) \\left(x - 2.0943951023932\\right) \\left(x - 1.39626340159546\\right) \\left(x - 0.698131700797732\\right) - 0.00146899403260245 x \\left(x - 6.28318530717959\\right) \\left(x - 5.58505360638185\\right) \\left(x - 4.88692190558412\\right) \\left(x - 3.49065850398866\\right) \\left(x - 2.79252680319093\\right) \\left(x - 2.0943951023932\\right) \\left(x - 1.39626340159546\\right) \\left(x - 0.698131700797732\\right) + 7.59352973034796 \\cdot 10^{-5} x \\left(x - 6.28318530717959\\right) \\left(x - 5.58505360638185\\right) \\left(x - 4.18879020478639\\right) \\left(x - 3.49065850398866\\right) \\left(x - 2.79252680319093\\right) \\left(x - 2.0943951023932\\right) \\left(x - 1.39626340159546\\right) \\left(x - 0.698131700797732\\right) - 0.000369446179150168 x \\left(x - 6.28318530717959\\right) \\left(x - 4.88692190558412\\right) \\left(x - 4.18879020478639\\right) \\left(x - 3.49065850398866\\right) \\left(x - 2.79252680319093\\right) \\left(x - 2.0943951023932\\right) \\left(x - 1.39626340159546\\right) \\left(x - 0.698131700797732\\right) + 6.99520967905925 \\cdot 10^{-5} x \\left(x - 5.58505360638185\\right) \\left(x - 4.88692190558412\\right) \\left(x - 4.18879020478639\\right) \\left(x - 3.49065850398866\\right) \\left(x - 2.79252680319093\\right) \\left(x - 2.0943951023932\\right) \\left(x - 1.39626340159546\\right) \\left(x - 0.698131700797732\\right) + 4.88357763067839 \\cdot 10^{-5} \\left(- 1.43239448782706 x + 1.0\\right) \\left(x - 6.28318530717959\\right) \\left(x - 5.58505360638185\\right) \\left(x - 4.88692190558412\\right) \\left(x - 4.18879020478639\\right) \\left(x - 3.49065850398866\\right) \\left(x - 2.79252680319093\\right) \\left(x - 2.0943951023932\\right) \\left(x - 1.39626340159546\\right)$$"
      ],
      "text/plain": [
       "0.000369446179150168*x*(x - 6.28318530717959)*(x - 5.58505360638185)*(x - 4.88\n",
       "692190558412)*(x - 4.18879020478639)*(x - 3.49065850398866)*(x - 2.79252680319\n",
       "093)*(x - 2.0943951023932)*(x - 1.39626340159546) - 7.593529730348e-5*x*(x - 6\n",
       ".28318530717959)*(x - 5.58505360638185)*(x - 4.88692190558412)*(x - 4.18879020\n",
       "478639)*(x - 3.49065850398866)*(x - 2.79252680319093)*(x - 2.0943951023932)*(x\n",
       " - 0.698131700797732) + 0.00146899403260244*x*(x - 6.28318530717959)*(x - 5.58\n",
       "505360638185)*(x - 4.88692190558412)*(x - 4.18879020478639)*(x - 3.49065850398\n",
       "866)*(x - 2.79252680319093)*(x - 1.39626340159546)*(x - 0.698131700797732) - 0\n",
       ".00778292624475745*x*(x - 6.28318530717959)*(x - 5.58505360638185)*(x - 4.8869\n",
       "2190558412)*(x - 4.18879020478639)*(x - 3.49065850398866)*(x - 2.0943951023932\n",
       ")*(x - 1.39626340159546)*(x - 0.698131700797732) + 0.00778292624475745*x*(x - \n",
       "6.28318530717959)*(x - 5.58505360638185)*(x - 4.88692190558412)*(x - 4.1887902\n",
       "0478639)*(x - 2.79252680319093)*(x - 2.0943951023932)*(x - 1.39626340159546)*(\n",
       "x - 0.698131700797732) - 0.00146899403260245*x*(x - 6.28318530717959)*(x - 5.5\n",
       "8505360638185)*(x - 4.88692190558412)*(x - 3.49065850398866)*(x - 2.7925268031\n",
       "9093)*(x - 2.0943951023932)*(x - 1.39626340159546)*(x - 0.698131700797732) + 7\n",
       ".59352973034796e-5*x*(x - 6.28318530717959)*(x - 5.58505360638185)*(x - 4.1887\n",
       "9020478639)*(x - 3.49065850398866)*(x - 2.79252680319093)*(x - 2.0943951023932\n",
       ")*(x - 1.39626340159546)*(x - 0.698131700797732) - 0.000369446179150168*x*(x -\n",
       " 6.28318530717959)*(x - 4.88692190558412)*(x - 4.18879020478639)*(x - 3.490658\n",
       "50398866)*(x - 2.79252680319093)*(x - 2.0943951023932)*(x - 1.39626340159546)*\n",
       "(x - 0.698131700797732) + 6.99520967905925e-5*x*(x - 5.58505360638185)*(x - 4.\n",
       "88692190558412)*(x - 4.18879020478639)*(x - 3.49065850398866)*(x - 2.792526803\n",
       "19093)*(x - 2.0943951023932)*(x - 1.39626340159546)*(x - 0.698131700797732) + \n",
       "4.88357763067839e-5*(-1.43239448782706*x + 1.0)*(x - 6.28318530717959)*(x - 5.\n",
       "58505360638185)*(x - 4.88692190558412)*(x - 4.18879020478639)*(x - 3.490658503\n",
       "98866)*(x - 2.79252680319093)*(x - 2.0943951023932)*(x - 1.39626340159546)"
      ]
     },
     "execution_count": 114,
     "metadata": {},
     "output_type": "execute_result"
    }
   ],
   "source": [
    "interpolacionlagrange(linspace(0,2pi,10),y,x)\n",
    "#Se evalúa la función interpoladora en la variable simbólica para el caso del coseno cuadrado."
   ]
  },
  {
   "cell_type": "code",
   "execution_count": 115,
   "metadata": {
    "scrolled": true
   },
   "outputs": [
    {
     "data": {
      "text/latex": [
       "$$\\frac{x}{24} \\left(x - 7\\right) \\left(x - 6\\right) \\left(x - 5\\right) \\left(x - 4\\right) \\left(x - 3\\right) - \\frac{x}{18} \\left(x - 7\\right) \\left(x - 6\\right) \\left(x - 5\\right) \\left(x - 4\\right) \\left(x - 2\\right) + \\frac{x}{12} \\left(x - 7\\right) \\left(x - 6\\right) \\left(x - 4\\right) \\left(x - 3\\right) \\left(x - 2\\right) - \\frac{5 x}{36} \\left(x - 7\\right) \\left(x - 5\\right) \\left(x - 4\\right) \\left(x - 3\\right) \\left(x - 2\\right) - \\frac{x}{840} \\left(x - 6\\right) \\left(x - 5\\right) \\left(x - 4\\right) \\left(x - 3\\right) \\left(x - 2\\right) - \\frac{1}{252} \\left(- \\frac{x}{2} + 1\\right) \\left(x - 7\\right) \\left(x - 6\\right) \\left(x - 5\\right) \\left(x - 4\\right) \\left(x - 3\\right)$$"
      ],
      "text/plain": [
       "                                                                              \n",
       "                                                                              \n",
       "x*(x - 7)*(x - 6)*(x - 5)*(x - 4)*(x - 3)   x*(x - 7)*(x - 6)*(x - 5)*(x - 4)*\n",
       "----------------------------------------- - ----------------------------------\n",
       "                    24                                          18            \n",
       "\n",
       "                                                                              \n",
       "                                                                              \n",
       "(x - 2)   x*(x - 7)*(x - 6)*(x - 4)*(x - 3)*(x - 2)   5*x*(x - 7)*(x - 5)*(x -\n",
       "------- + ----------------------------------------- - ------------------------\n",
       "                              12                                           36 \n",
       "\n",
       "                                                                  /  x    \\   \n",
       "                                                                  |- - + 1|*(x\n",
       " 4)*(x - 3)*(x - 2)   x*(x - 6)*(x - 5)*(x - 4)*(x - 3)*(x - 2)   \\  2    /   \n",
       "------------------- - ----------------------------------------- - ------------\n",
       "                                         840                                  \n",
       "\n",
       "                                     \n",
       " - 7)*(x - 6)*(x - 5)*(x - 4)*(x - 3)\n",
       "                                     \n",
       "-------------------------------------\n",
       "           252                       "
      ]
     },
     "execution_count": 115,
     "metadata": {},
     "output_type": "execute_result"
    }
   ],
   "source": [
    "interpolacionlagrange([0,2,3,4,5,6,7],[10,-10,-4,0,5,20,-1],x) \n",
    "#Se evalúa la función interpoladora en la variable simbólica para el caso de los siete puntos dados."
   ]
  },
  {
   "cell_type": "markdown",
   "metadata": {},
   "source": [
    "Método de Simpson"
   ]
  },
  {
   "cell_type": "code",
   "execution_count": 130,
   "metadata": {},
   "outputs": [
    {
     "data": {
      "text/plain": [
       "(x,y)"
      ]
     },
     "execution_count": 130,
     "metadata": {},
     "output_type": "execute_result"
    }
   ],
   "source": [
    "x,y=symbols(\"x,y\")"
   ]
  },
  {
   "cell_type": "code",
   "execution_count": 131,
   "metadata": {},
   "outputs": [
    {
     "data": {
      "text/plain": [
       "F (generic function with 1 method)"
      ]
     },
     "execution_count": 131,
     "metadata": {},
     "output_type": "execute_result"
    }
   ],
   "source": [
    "function F(f,a) #Se define una función que tome como entrada una función f y un valor inicial.\n",
    "    f(a)\n",
    "end"
   ]
  },
  {
   "cell_type": "code",
   "execution_count": 132,
   "metadata": {},
   "outputs": [
    {
     "data": {
      "text/plain": [
       "metodo_simpson (generic function with 1 method)"
      ]
     },
     "execution_count": 132,
     "metadata": {},
     "output_type": "execute_result"
    }
   ],
   "source": [
    "function metodo_simpson(F,a,b,n) #Se define una función que calcule la integral de una función dada usando el \n",
    "    #método de Simpson que tome como entradas a la función, el intervalo de integración, y el número de \n",
    "    #particiones del intervalo.\n",
    "    x = a\n",
    "    I = 0\n",
    "    while x < b\n",
    "        x = x + ((b-a) / n)\n",
    "        I += (b - a) * (F(x) + 4 * F(x + (b-a) / 2n) + F(x + (b-a)/n)) / 6n\n",
    "    end\n",
    "   return I #Se regresa el valor de la integral.\n",
    "end"
   ]
  },
  {
   "cell_type": "code",
   "execution_count": 136,
   "metadata": {},
   "outputs": [
    {
     "data": {
      "text/latex": [
       "$$41.352936373476$$"
      ],
      "text/plain": [
       "41.3529363734760"
      ]
     },
     "execution_count": 136,
     "metadata": {},
     "output_type": "execute_result"
    }
   ],
   "source": [
    "metodo_simpson(x^2,1,5,10000)"
   ]
  },
  {
   "cell_type": "code",
   "execution_count": null,
   "metadata": {
    "collapsed": true
   },
   "outputs": [],
   "source": []
  }
 ],
 "metadata": {
  "kernelspec": {
   "display_name": "Julia 0.4.5",
   "language": "julia",
   "name": "julia-0.4"
  },
  "language_info": {
   "file_extension": ".jl",
   "mimetype": "application/julia",
   "name": "julia",
   "version": "0.4.5"
  }
 },
 "nbformat": 4,
 "nbformat_minor": 2
}
