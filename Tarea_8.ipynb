{
 "cells": [
  {
   "cell_type": "code",
   "execution_count": 9,
   "metadata": {},
   "outputs": [
    {
     "data": {
      "text/plain": [
       "derivada_numerica (generic function with 1 method)"
      ]
     },
     "execution_count": 9,
     "metadata": {},
     "output_type": "execute_result"
    }
   ],
   "source": [
    "function derivada_numerica(f,x,h) #Se crea la función derivada numerica que toma como entradas a la función, el \n",
    "    #punto y el valor de h.\n",
    "    df = (f(x + h) - f(x))/h\n",
    "    return df\n",
    "end"
   ]
  },
  {
   "cell_type": "code",
   "execution_count": 8,
   "metadata": {},
   "outputs": [
    {
     "data": {
      "text/plain": [
       "-0.4795053243356051"
      ]
     },
     "execution_count": 8,
     "metadata": {},
     "output_type": "execute_result"
    }
   ],
   "source": [
    "derivada_numerica(cos,0.5,1e-12) #Se prueba dicha función para el coseno en un punto en el intervalo 0 a 1 para \n",
    "#una h dada."
   ]
  },
  {
   "cell_type": "markdown",
   "metadata": {},
   "source": [
    "Mientras que la derivada exacta es"
   ]
  },
  {
   "cell_type": "code",
   "execution_count": 7,
   "metadata": {},
   "outputs": [
    {
     "data": {
      "text/plain": [
       "-0.479425538604203"
      ]
     },
     "execution_count": 7,
     "metadata": {},
     "output_type": "execute_result"
    }
   ],
   "source": [
    "-sin(0.5)"
   ]
  },
  {
   "cell_type": "markdown",
   "metadata": {},
   "source": [
    "Ejercicio 6\n",
    "\n",
    "Mediante serie de Taylor se tiene lo siguiente\n",
    "\n",
    "\n",
    "$$e^{\\eta}=\\sum_{n=0}^{\\infty} \\frac{\\eta^n}{n!}= \\sum_{n=1}^{\\infty}  \\frac{\\eta^n}{n!}+ 1$$\n",
    "\n",
    "\n",
    "$$\\Rightarrow e^{\\eta}-1=\\sum_{n=1}^{\\infty} \\frac{\\eta^n}{n!}$$\n",
    "\n",
    "Eligiendo $\\eta$ de la siguiente manera\n",
    "\n",
    "$$\\eta=\\left.h\\frac{d}{d\\xi}\\right|_{\\substack{ \\xi=x }}$$\n",
    "\n",
    "De esta manera, se obtiene la relación entre el operador derivada exacta y el operador diferencia finita hacia adelante.\n",
    "\n",
    "$$\\Delta_h=\\sum_{n=1}^{\\infty} \\frac{1}{n!}h^n\\left.\\frac{d^n}{d\\xi^n}\\right|_{\\substack{ \\xi=x }}=e^{\\eta}-1=\\phi\\left(h\\left.\\frac{d}{d\\xi}\\right|_{\\substack{ \\xi=x }}\\right)$$\n",
    "\n",
    "donde $\\Delta_h$ es el operador de diferencia finita hacia adelante y $\\frac{d^n}{d\\xi^n}$ es la derivada exacta."
   ]
  },
  {
   "cell_type": "markdown",
   "metadata": {},
   "source": [
    "Ejercicio 7\n",
    "\n",
    "De la definición del operador\n",
    "$$\\Delta_{-h}:f \\mapsto f(x-h)-f(x)$$\n",
    "\n",
    "La forma en serie de este operador es \n",
    " $$ f(x-h)=f{\\left (x \\right )} - h \\left. \\frac{d}{d \\xi} f{\\left (\\xi \\right )} \\right|_{\\substack{ \\xi=x }} + \\frac{h^{2}}{2} \\left. \\frac{d^{2}}{d \\xi^{2}}  f{\\left (\\xi \\right )} \\right|_{\\substack{ \\xi=x }} - \\frac{h^{3}}{6} \\left. \\frac{d^{3}}{d \\xi^{3}}  f{\\left (\\xi \\right )} \\right|_{\\substack{ \\xi=x }} + \\mathcal{O}\\left(h^{4}\\right).$$\n",
    " $$\\Rightarrow  \\Delta_{-h}=f(x-h)-f(x)= \\sum_{n=1}^{\\infty} \\frac{1}{n!}(-h)^n\\left.\\frac{d^n}{d\\xi^n}\\right|_{\\substack{ \\xi=x }}$$"
   ]
  },
  {
   "cell_type": "markdown",
   "metadata": {},
   "source": [
    "Se sabe que $\\Delta_{-h}$ se puede expresar mediante \n",
    "\n",
    "$$e^{-\\eta}-1=\\phi\\left(-h\\left.\\frac{d}{d\\xi}\\right|_{\\substack{ \\xi=x }}\\right)$$\n",
    "donde $$\\eta=\\left.h\\frac{d}{d\\xi}\\right|_{\\substack{ \\xi=x }}$$\n",
    " \n",
    "De esta forma, se calcula\n",
    " \n",
    " $$\\delta_h=\\Delta_h-\\Delta_{-h}$$\n",
    "$$=e^{\\eta}-1-(e^{-\\eta}-1)=e^{\\eta}-e^{-\\eta}$$\n",
    "$$=2sinh(\\eta)$$\n",
    "\n",
    "Por lo cual, obtenemos la relación entre $\\delta_h$ y la derivada exacta \n",
    "\n",
    "$$\\delta_h=2sinh(\\left.h\\frac{d}{d\\xi}\\right|_{\\substack{ \\xi=x }})$$\n",
    "\n",
    "Despejando a la derivada exacta, podemos calcular la serie de Taylor de $sinh$ \n",
    "\n",
    " $$\\delta_h=\\Delta_h-\\Delta_{-h}= 2(\\eta+\\frac{\\eta^{3}}{3!}+...)$$\n",
    " \n",
    " Si sólo tomamos el primer término de la serie obtenemos\n",
    " \n",
    "  $$\\delta_h= 2\\eta=2\\left.h\\frac{d}{d\\xi}\\right|_{\\substack{ \\xi=x }}+\\mathcal{O}\\left(h^{3}\\right)$$ \n",
    "  \n",
    " \n",
    "   $$\\frac{\\delta_h}{2h}-\\left.\\frac{d}{d\\xi}\\right|_{\\substack{ \\xi=x }}=\\mathcal{O}\\left(h^{2}\\right)$$ \n",
    "   \n",
    "   Obtenemos por lo tanto la convergencia del error con operadores. Donde $\\delta_h$ expresa la derivada simétrica \n",
    "   \n",
    "   El error obtenido es el mismo que\n",
    "   \n",
    "   $$\\frac{f(x+h)-f(x-h)}{2h}-f'(x)=\\mathcal{O}(h^2)$$"
   ]
  },
  {
   "cell_type": "code",
   "execution_count": null,
   "metadata": {
    "collapsed": true
   },
   "outputs": [],
   "source": []
  },
  {
   "cell_type": "code",
   "execution_count": null,
   "metadata": {
    "collapsed": true
   },
   "outputs": [],
   "source": []
  }
 ],
 "metadata": {
  "kernelspec": {
   "display_name": "Julia 0.4.5",
   "language": "julia",
   "name": "julia-0.4"
  },
  "language_info": {
   "file_extension": ".jl",
   "mimetype": "application/julia",
   "name": "julia",
   "version": "0.4.5"
  }
 },
 "nbformat": 4,
 "nbformat_minor": 2
}
