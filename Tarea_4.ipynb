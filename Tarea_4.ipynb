{
 "cells": [
  {
   "cell_type": "code",
   "execution_count": 2,
   "metadata": {},
   "outputs": [
    {
     "name": "stderr",
     "output_type": "stream",
     "text": [
      "\u001b[1m\u001b[34mINFO: Cloning cache of ColorTypes from https://github.com/JuliaGraphics/ColorTypes.jl.git\n",
      "\u001b[0m\u001b[1m\u001b[34mINFO: Cloning cache of Colors from https://github.com/JuliaGraphics/Colors.jl.git\n",
      "\u001b[0m\u001b[1m\u001b[34mINFO: Cloning cache of FixedPointNumbers from https://github.com/JuliaMath/FixedPointNumbers.jl.git\n",
      "\u001b[0m\u001b[1m\u001b[34mINFO: Cloning cache of LaTeXStrings from https://github.com/stevengj/LaTeXStrings.jl.git\n",
      "\u001b[0m\u001b[1m\u001b[34mINFO: Cloning cache of MacroTools from https://github.com/MikeInnes/MacroTools.jl.git\n",
      "\u001b[0m\u001b[1m\u001b[34mINFO: Cloning cache of PyCall from https://github.com/JuliaPy/PyCall.jl.git\n",
      "\u001b[0m\u001b[1m\u001b[34mINFO: Cloning cache of PyPlot from https://github.com/JuliaPy/PyPlot.jl.git\n",
      "\u001b[0m\u001b[1m\u001b[34mINFO: Cloning cache of Reexport from https://github.com/simonster/Reexport.jl.git\n",
      "\u001b[0m\u001b[1m\u001b[34mINFO: Installing ColorTypes v0.5.2\n",
      "\u001b[0m\u001b[1m\u001b[34mINFO: Installing Colors v0.7.4\n",
      "\u001b[0m\u001b[1m\u001b[34mINFO: Installing FixedPointNumbers v0.3.9\n",
      "\u001b[0m\u001b[1m\u001b[34mINFO: Installing LaTeXStrings v0.2.1\n",
      "\u001b[0m\u001b[1m\u001b[34mINFO: Installing MacroTools v0.3.7\n",
      "\u001b[0m\u001b[1m\u001b[34mINFO: Installing PyCall v1.14.0\n",
      "\u001b[0m\u001b[1m\u001b[34mINFO: Installing PyPlot v2.3.2\n",
      "\u001b[0m\u001b[1m\u001b[34mINFO: Installing Reexport v0.0.3\n",
      "\u001b[0m\u001b[1m\u001b[34mINFO: Building Conda\n",
      "\u001b[0m\u001b[1m\u001b[34mINFO: Building PyCall\n",
      "\u001b[0m\u001b[1m\u001b[34mINFO: PyCall is using python (Python 2.7.13) at /usr/bin/python, libpython = /usr/lib64/libpython2.7\n",
      "\u001b[0m\u001b[1m\u001b[34mINFO: /home/est7/.julia/v0.5/PyCall/deps/deps.jl has been updated\n",
      "\u001b[0m\u001b[1m\u001b[34mINFO: /home/est7/.julia/v0.5/PyCall/deps/PYTHON has been updated\n",
      "\u001b[0m\u001b[1m\u001b[34mINFO: Package database updated\n",
      "\u001b[0m"
     ]
    }
   ],
   "source": [
    "Pkg.add(\"PyPlot\")"
   ]
  },
  {
   "cell_type": "code",
   "execution_count": 3,
   "metadata": {},
   "outputs": [
    {
     "name": "stderr",
     "output_type": "stream",
     "text": [
      "\u001b[1m\u001b[34mINFO: Precompiling module PyPlot.\n",
      "\u001b[0m/usr/lib64/python2.7/site-packages/matplotlib/font_manager.py:273: UserWarning: Matplotlib is building the font cache using fc-list. This may take a moment.\n",
      "  warnings.warn('Matplotlib is building the font cache using fc-list. This may take a moment.')\n"
     ]
    }
   ],
   "source": [
    "using PyPlot"
   ]
  },
  {
   "cell_type": "code",
   "execution_count": 32,
   "metadata": {},
   "outputs": [
    {
     "name": "stderr",
     "output_type": "stream",
     "text": [
      "WARNING: Method definition polinomio(Any) in module Main at In[4]:5 overwritten at In[32]:2.\n"
     ]
    }
   ],
   "source": [
    "function polinomio(init) # Se calculan las raices utilizando el método de Newton.\n",
    "    list=zeros(Complex64,100);\n",
    "    x=init;\n",
    "    for i in 1:100\n",
    "        f= complex((x^3)-(x^2)-x-1)\n",
    "        df= complex(3(x^2)-2x-1x) \n",
    "        x=x-f/df;\n",
    "        list[i]=x;\n",
    "    end\n",
    "    return list\n",
    "end;"
   ]
  },
  {
   "cell_type": "code",
   "execution_count": 33,
   "metadata": {
    "collapsed": true
   },
   "outputs": [],
   "source": [
    "list1=polinomio(1.1); #Se nombran las listas para las 4 condiciones iniciales.\n",
    "list2=polinomio(1.5);\n",
    "list3=polinomio(-1);\n",
    "list4=polinomio(-1.7);"
   ]
  },
  {
   "cell_type": "code",
   "execution_count": 34,
   "metadata": {},
   "outputs": [
    {
     "data": {
      "image/png": "[encoded data removed]",
      "text/plain": [
       "PyPlot.Figure(PyObject <matplotlib.figure.Figure object at 0x7f2beca87f50>)"
      ]
     },
     "metadata": {},
     "output_type": "display_data"
    }
   ],
   "source": [
    "plot(real(list1)) #Se grafica cada lista.\n",
    "plot(real(list2))\n",
    "plot(real(list3))\n",
    "plot(real(list4))\n",
    "show();"
   ]
  },
  {
   "cell_type": "code",
   "execution_count": 35,
   "metadata": {},
   "outputs": [
    {
     "name": "stderr",
     "output_type": "stream",
     "text": [
      "WARNING: Method definition metodo_biseccion(Any, Any) in module Main at In[26]:2 overwritten at In[35]:2.\n"
     ]
    }
   ],
   "source": [
    "function metodo_biseccion(a,b) #Se calculan las raices ahora utilizando el método de bisección.\n",
    "    listb=zeros(100); #Se nombra la lista de ceros.\n",
    "    p = (a+b)/2\n",
    "    f(x) = x^3-x^2-x-1\n",
    "    for i in 1:100\n",
    "        if  f(a)*f(p) > 0\n",
    "            a = p\n",
    "        listb[i]=p; #Se nombra la lista para este caso el valor inicial de p para cada iteración.\n",
    "        end\n",
    "        \n",
    "        if f(b)*f(p) > 0\n",
    "            b = p\n",
    "        listb[i]=p;\n",
    "        end\n",
    "        p = (a+b)/2 #Se nombra la lista para este caso el valor inicial de p para cada iteración.\n",
    "    end\n",
    "    return listb #Se regresa la lista. \n",
    "end;"
   ]
  },
  {
   "cell_type": "code",
   "execution_count": 36,
   "metadata": {},
   "outputs": [
    {
     "data": {
      "text/plain": [
       "100-element Array{Float64,1}:\n",
       " 1.5    \n",
       " 1.75   \n",
       " 1.875  \n",
       " 1.8125 \n",
       " 1.84375\n",
       " 1.82813\n",
       " 1.83594\n",
       " 1.83984\n",
       " 1.83789\n",
       " 1.83887\n",
       " 1.83936\n",
       " 1.83911\n",
       " 1.83923\n",
       " ⋮      \n",
       " 1.83929\n",
       " 1.83929\n",
       " 1.83929\n",
       " 1.83929\n",
       " 1.83929\n",
       " 1.83929\n",
       " 1.83929\n",
       " 1.83929\n",
       " 1.83929\n",
       " 1.83929\n",
       " 1.83929\n",
       " 1.83929"
      ]
     },
     "execution_count": 36,
     "metadata": {},
     "output_type": "execute_result"
    }
   ],
   "source": [
    "metodo_biseccion(1,2) #Se presenta la lista para valores iniciales particulares"
   ]
  },
  {
   "cell_type": "code",
   "execution_count": 37,
   "metadata": {},
   "outputs": [
    {
     "data": {
      "text/plain": [
       "100-element Array{Float64,1}:\n",
       " 2.0    \n",
       " 1.5    \n",
       " 1.75   \n",
       " 1.875  \n",
       " 1.8125 \n",
       " 1.84375\n",
       " 1.82813\n",
       " 1.83594\n",
       " 1.83984\n",
       " 1.83789\n",
       " 1.83887\n",
       " 1.83936\n",
       " 1.83911\n",
       " ⋮      \n",
       " 1.83929\n",
       " 1.83929\n",
       " 1.83929\n",
       " 1.83929\n",
       " 1.83929\n",
       " 1.83929\n",
       " 1.83929\n",
       " 1.83929\n",
       " 1.83929\n",
       " 1.83929\n",
       " 1.83929\n",
       " 1.83929"
      ]
     },
     "execution_count": 37,
     "metadata": {},
     "output_type": "execute_result"
    }
   ],
   "source": [
    "listb1=metodo_biseccion(1,3) #Se nombra la lista para un intervalo dado."
   ]
  },
  {
   "cell_type": "code",
   "execution_count": 38,
   "metadata": {},
   "outputs": [
    {
     "data": {
      "image/png": "[encoded data removed]",
      "text/plain": [
       "PyPlot.Figure(PyObject <matplotlib.figure.Figure object at 0x7f2bec82f150>)"
      ]
     },
     "metadata": {},
     "output_type": "display_data"
    }
   ],
   "source": [
    "plot(real(listb1),\".\") #Se grafica la lista creada para un intervalo dado.\n",
    "xlabel(\"Número de la iteración\")\n",
    "ylim(1,3)\n",
    "xlim(-1,20)\n",
    "show();"
   ]
  },
  {
   "cell_type": "code",
   "execution_count": 39,
   "metadata": {},
   "outputs": [
    {
     "data": {
      "image/png": "[encoded data removed]",
      "text/plain": [
       "PyPlot.Figure(PyObject <matplotlib.figure.Figure object at 0x7f2bec754a50>)"
      ]
     },
     "metadata": {},
     "output_type": "display_data"
    },
    {
     "data": {
      "text/plain": [
       "1-element Array{Any,1}:\n",
       " PyObject <matplotlib.lines.Line2D object at 0x7f2bec65aa10>"
      ]
     },
     "execution_count": 39,
     "metadata": {},
     "output_type": "execute_result"
    }
   ],
   "source": [
    "S=listb1[end] #Se grafica el error relativo a la raiz S del último valor de la listab1.\n",
    "x=(listb1-S)/S\n",
    "plot(x,\".\")"
   ]
  },
  {
   "cell_type": "code",
   "execution_count": 41,
   "metadata": {},
   "outputs": [
    {
     "name": "stderr",
     "output_type": "stream",
     "text": [
      "\u001b[1m\u001b[34mINFO: Cloning cache of BaseTestNext from https://github.com/JuliaCI/BaseTestNext.jl.git\n",
      "\u001b[0m\u001b[1m\u001b[34mINFO: Cloning cache of RecipesBase from https://github.com/JuliaPlots/RecipesBase.jl.git\n",
      "\u001b[0m\u001b[1m\u001b[34mINFO: Cloning cache of SymPy from https://github.com/JuliaPy/SymPy.jl.git\n",
      "\u001b[0m\u001b[1m\u001b[34mINFO: Installing BaseTestNext v0.2.2\n",
      "\u001b[0m\u001b[1m\u001b[34mINFO: Installing RecipesBase v0.1.0\n",
      "\u001b[0m\u001b[1m\u001b[34mINFO: Installing SymPy v0.5.3\n",
      "\u001b[0m\u001b[1m\u001b[34mINFO: Building Conda\n",
      "\u001b[0m\u001b[1m\u001b[34mINFO: Building PyCall\n",
      "\u001b[0m\u001b[1m\u001b[34mINFO: PyCall is using /usr/bin/python (Python 2.7.13) at /usr/bin/python, libpython = /usr/lib64/libpython2.7\n",
      "\u001b[0m\u001b[1m\u001b[34mINFO: /home/est7/.julia/v0.5/PyCall/deps/deps.jl has been updated\n",
      "\u001b[0m\u001b[1m\u001b[34mINFO: /home/est7/.julia/v0.5/PyCall/deps/PYTHON has not changed\n",
      "\u001b[0m\u001b[1m\u001b[34mINFO: Package database updated\n",
      "\u001b[0m"
     ]
    }
   ],
   "source": [
    "Pkg.add(\"SymPy\")"
   ]
  },
  {
   "cell_type": "code",
   "execution_count": 42,
   "metadata": {},
   "outputs": [
    {
     "name": "stderr",
     "output_type": "stream",
     "text": [
      "\u001b[1m\u001b[34mINFO: Precompiling module SymPy.\n",
      "\u001b[0mWARNING: using SymPy.S in module Main conflicts with an existing identifier.\n"
     ]
    }
   ],
   "source": [
    "using SymPy"
   ]
  },
  {
   "cell_type": "code",
   "execution_count": 47,
   "metadata": {},
   "outputs": [
    {
     "data": {
      "text/latex": [
       "$$x$$"
      ],
      "text/plain": [
       "x"
      ]
     },
     "execution_count": 47,
     "metadata": {},
     "output_type": "execute_result"
    }
   ],
   "source": [
    "x=symbols(\"x\") #Se definen las variables simbólicas"
   ]
  },
  {
   "cell_type": "code",
   "execution_count": 48,
   "metadata": {},
   "outputs": [
    {
     "name": "stderr",
     "output_type": "stream",
     "text": [
      "WARNING: Method definition F(Any, Any) in module Main at In[44]:2 overwritten at In[48]:2.\n"
     ]
    },
    {
     "data": {
      "text/plain": [
       "F (generic function with 1 method)"
      ]
     },
     "execution_count": 48,
     "metadata": {},
     "output_type": "execute_result"
    }
   ],
   "source": [
    "function F(f,valorinicial) #Se define una función que tome como entrada una función f y un valor inicial.\n",
    "    f(valorinicial)\n",
    "end"
   ]
  },
  {
   "cell_type": "code",
   "execution_count": 49,
   "metadata": {},
   "outputs": [
    {
     "name": "stderr",
     "output_type": "stream",
     "text": [
      "WARNING: Method definition metodo_newton(Any, Any, Any) in module Main at In[45]:3 overwritten at In[49]:3.\n"
     ]
    },
    {
     "data": {
      "text/plain": [
       "metodo_newton (generic function with 1 method)"
      ]
     },
     "execution_count": 49,
     "metadata": {},
     "output_type": "execute_result"
    }
   ],
   "source": [
    "function metodo_newton(F,df,valorinicial) #Se define una función que calcule las raíces usando el método de Newton \n",
    "    #que tome como entradas a una función cualquiera, la derivada y el valor inicial.\n",
    "    x=valorinicial\n",
    "    for i in 1:100\n",
    "    x=x-F(x)/df(x);\n",
    "    end\n",
    "   return x #Se regresa el valor de la raiz.\n",
    "end"
   ]
  },
  {
   "cell_type": "code",
   "execution_count": 50,
   "metadata": {},
   "outputs": [
    {
     "data": {
      "text/plain": [
       "3.141592653589793"
      ]
     },
     "execution_count": 50,
     "metadata": {},
     "output_type": "execute_result"
    }
   ],
   "source": [
    "metodo_newton(sin,cos,2) #Se realiza un ejemplo."
   ]
  },
  {
   "cell_type": "markdown",
   "metadata": {},
   "source": [
    "A continuación, se realizan los ejercicios de tal manera que los inputs de la función del método sean solamente una función cualquiera y el valor inicial."
   ]
  },
  {
   "cell_type": "code",
   "execution_count": 53,
   "metadata": {},
   "outputs": [
    {
     "name": "stderr",
     "output_type": "stream",
     "text": [
      "WARNING: Method definition metodo_newton2(Any, Any) in module Main at In[51]:3 overwritten at In[53]:3.\n",
      "WARNING: Method definition metodo_newton2(Any, Any, Any) in module Main at In[51]:3 overwritten at In[53]:3.\n"
     ]
    },
    {
     "data": {
      "text/plain": [
       "metodo_newton2 (generic function with 2 methods)"
      ]
     },
     "execution_count": 53,
     "metadata": {},
     "output_type": "execute_result"
    }
   ],
   "source": [
    "function metodo_newton2(F,xi,error=1e-8) #Se define otra función que calcule las raices usando el método de Newton\n",
    "    #nuevamente, pero ahora sólo tomando las raices hasta cierto valor denotado por \"error\".\n",
    "    x=Sym(\"x\") #Se define localmente a la variable x.\n",
    "    df=diff(F(x))\n",
    "    d=error+1\n",
    "    while error<d\n",
    "        xi=xi-F(xi)/N(df(xi))\n",
    "        d=(F(xi)^2)^(1/2)\n",
    "    end\n",
    "    return xi #Regresa la raiz.\n",
    "end"
   ]
  },
  {
   "cell_type": "code",
   "execution_count": 54,
   "metadata": {},
   "outputs": [
    {
     "data": {
      "text/plain": [
       "3.1415926536808043"
      ]
     },
     "execution_count": 54,
     "metadata": {},
     "output_type": "execute_result"
    }
   ],
   "source": [
    "metodo_newton2(sin,2) #Se realiza un ejemplo particular."
   ]
  },
  {
   "cell_type": "code",
   "execution_count": 55,
   "metadata": {},
   "outputs": [
    {
     "data": {
      "text/plain": [
       "Newtonarr (generic function with 2 methods)"
      ]
     },
     "execution_count": 55,
     "metadata": {},
     "output_type": "execute_result"
    }
   ],
   "source": [
    "function Newtonarr(F,xa,xb,error=1e-10) #Se crea una rutina donde en lugar de tomar una sóla condición inicial,\n",
    "    #reciba un rango de condiciones iniciales.\n",
    "    raices=[] #Se define el vector raices.\n",
    "    for i in linspace(xa,xb,200) #Se realiza la iteración 200 veces en el intervalo inicial.\n",
    "        push!(raices,metodo_newton2(F,i,error)) #Guarda las raices en el vector definido raices.\n",
    "    end\n",
    "    return raices #Devuelve el vector.\n",
    "end"
   ]
  },
  {
   "cell_type": "code",
   "execution_count": 56,
   "metadata": {},
   "outputs": [
    {
     "data": {
      "text/plain": [
       "200-element Array{Any,1}:\n",
       " 7.62939453125000e-6\n",
       " 7.70607186322237e-6\n",
       " 7.78274919519472e-6\n",
       " 7.85942652716708e-6\n",
       " 7.93610385913945e-6\n",
       " 8.01278119111181e-6\n",
       " 8.08945852308417e-6\n",
       " 8.16613585505653e-6\n",
       " 8.24281318702889e-6\n",
       " 8.31949051900126e-6\n",
       " 8.39616785097362e-6\n",
       " 8.47284518294598e-6\n",
       " 8.54952251491834e-6\n",
       "                   ⋮\n",
       " 5.51118323551351e-6\n",
       " 5.53035256850660e-6\n",
       " 5.54952190149969e-6\n",
       " 5.56869123449278e-6\n",
       " 5.58786056748587e-6\n",
       " 5.60702990047896e-6\n",
       " 5.62619923347205e-6\n",
       " 5.64536856646514e-6\n",
       " 5.66453789945823e-6\n",
       " 5.68370723245132e-6\n",
       " 5.70287656544441e-6\n",
       " 5.72204589843750e-6"
      ]
     },
     "execution_count": 56,
     "metadata": {},
     "output_type": "execute_result"
    }
   ],
   "source": [
    "Newtonarr(x^2,1.0,3.0) #Se presenta el vector de las raices para un ejemplo particular."
   ]
  },
  {
   "cell_type": "code",
   "execution_count": null,
   "metadata": {
    "collapsed": true
   },
   "outputs": [],
   "source": []
  }
 ],
 "metadata": {
  "kernelspec": {
   "display_name": "Julia 0.4.5",
   "language": "julia",
   "name": "julia-0.4"
  },
  "language_info": {
   "file_extension": ".jl",
   "mimetype": "application/julia",
   "name": "julia",
   "version": "0.4.5"
  }
 },
 "nbformat": 4,
 "nbformat_minor": 2
}
