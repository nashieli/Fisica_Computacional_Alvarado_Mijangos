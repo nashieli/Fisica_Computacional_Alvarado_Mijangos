{
 "cells": [
  {
   "cell_type": "code",
   "execution_count": 36,
   "metadata": {
    "collapsed": true
   },
   "outputs": [],
   "source": [
    "using SymPy"
   ]
  },
  {
   "cell_type": "code",
   "execution_count": 37,
   "metadata": {},
   "outputs": [
    {
     "data": {
      "text/latex": [
       "$$x$$"
      ],
      "text/plain": [
       "x"
      ]
     },
     "execution_count": 37,
     "metadata": {},
     "output_type": "execute_result"
    }
   ],
   "source": [
    "x=symbols(\"x\") "
   ]
  },
  {
   "cell_type": "code",
   "execution_count": 38,
   "metadata": {},
   "outputs": [
    {
     "data": {
      "text/plain": [
       "F (generic function with 1 method)"
      ]
     },
     "execution_count": 38,
     "metadata": {},
     "output_type": "execute_result"
    }
   ],
   "source": [
    "function F(f,a) #Se define una función que tome como entrada una función f y un valor inicial.\n",
    "    f(a)\n",
    "end"
   ]
  },
  {
   "cell_type": "code",
   "execution_count": 39,
   "metadata": {},
   "outputs": [
    {
     "data": {
      "text/plain": [
       "metodo_trapecio (generic function with 1 method)"
      ]
     },
     "execution_count": 39,
     "metadata": {},
     "output_type": "execute_result"
    }
   ],
   "source": [
    "function metodo_trapecio(F,a,b,n) #Se define una función que calcule la integral de una función dada usando el \n",
    "    #método del trapecio que tome como entradas a la función, el intervalo de integración, y el número de \n",
    "    #particiones del intervalo.\n",
    "    x=a\n",
    "    I=0\n",
    "    while x<b\n",
    "        x=x+((b-a)/n)\n",
    "        I += (b-a)*(F(x)+F(x+(b-a)/n))/2n\n",
    "    end\n",
    "   return I #Se regresa el valor de la integral.\n",
    "end"
   ]
  },
  {
   "cell_type": "code",
   "execution_count": 40,
   "metadata": {},
   "outputs": [
    {
     "data": {
      "text/latex": [
       "$$8.70071201999971$$"
      ],
      "text/plain": [
       "8.70071201999971"
      ]
     },
     "execution_count": 40,
     "metadata": {},
     "output_type": "execute_result"
    }
   ],
   "source": [
    "metodo_trapecio(x^2,1,3,1000)"
   ]
  },
  {
   "cell_type": "code",
   "execution_count": 41,
   "metadata": {},
   "outputs": [
    {
     "data": {
      "text/plain": [
       "metodo_rectangulo (generic function with 1 method)"
      ]
     },
     "execution_count": 41,
     "metadata": {},
     "output_type": "execute_result"
    }
   ],
   "source": [
    "function metodo_rectangulo(F,a,b,n) #Se define una función que calcule la integral de una función dada usando \n",
    "    #el método del rectángulo que tome como entradas a la función, el intervalo de integración, y el número de \n",
    "    #particiones del intervalo.\n",
    "    x=a\n",
    "    I=0\n",
    "    while x<b\n",
    "        x=x+((b-a)/n)\n",
    "        I += ((b-a)/n)*F(x+((b-a)/2n))\n",
    "    end\n",
    "   return I #Se regresa el valor de la integral.\n",
    "end"
   ]
  },
  {
   "cell_type": "code",
   "execution_count": 42,
   "metadata": {},
   "outputs": [
    {
     "data": {
      "text/latex": [
       "$$8.67233453711935$$"
      ],
      "text/plain": [
       "8.67233453711935"
      ]
     },
     "execution_count": 42,
     "metadata": {},
     "output_type": "execute_result"
    }
   ],
   "source": [
    "metodo_rectangulo(x^2,1,3,6000)"
   ]
  },
  {
   "cell_type": "code",
   "execution_count": null,
   "metadata": {
    "collapsed": true
   },
   "outputs": [],
   "source": []
  }
 ],
 "metadata": {
  "kernelspec": {
   "display_name": "Julia 0.4.5",
   "language": "julia",
   "name": "julia-0.4"
  },
  "language_info": {
   "file_extension": ".jl",
   "mimetype": "application/julia",
   "name": "julia",
   "version": "0.4.5"
  }
 },
 "nbformat": 4,
 "nbformat_minor": 2
}
