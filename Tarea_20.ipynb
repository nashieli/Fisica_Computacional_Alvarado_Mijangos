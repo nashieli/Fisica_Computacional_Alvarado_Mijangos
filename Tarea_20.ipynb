{
 "cells": [
  {
   "cell_type": "markdown",
   "metadata": {},
   "source": [
    "Tarea 20: Ejercicio 1 (Jueves 9 de Noviembre): Crear una rutina que construya $A$ y $\\vec b$ para este sistema. Resuelvalo utilizando la función inv y grafique $\\vec f$ utilizando la funcion pcolormesh. Recuerde que aqui $\\vec f$ es un vector, para volverlo de nuevo una matriz con entradas $f_{i,j}$ pueden usar la función reshape."
   ]
  },
  {
   "cell_type": "code",
   "execution_count": 4,
   "metadata": {},
   "outputs": [
    {
     "data": {
      "text/plain": [
       "metodo_euler_vec (generic function with 1 method)"
      ]
     },
     "execution_count": 4,
     "metadata": {},
     "output_type": "execute_result"
    }
   ],
   "source": [
    "function metodo_euler_vec(f,list,x0) \n",
    "     x = x0 \n",
    "     h = list[2]-list[1] \n",
    "     listx = []\n",
    "     for i in 2:length(list)\n",
    "        t = i*h \n",
    "        x = x + f(x,t)*h \n",
    "        push!(listx,x)\n",
    "     end\n",
    "     return listx \n",
    "end"
   ]
  },
  {
   "cell_type": "code",
   "execution_count": null,
   "metadata": {
    "collapsed": true
   },
   "outputs": [],
   "source": []
  }
 ],
 "metadata": {
  "kernelspec": {
   "display_name": "Julia 0.4.5",
   "language": "julia",
   "name": "julia-0.4"
  },
  "language_info": {
   "file_extension": ".jl",
   "mimetype": "application/julia",
   "name": "julia",
   "version": "0.4.5"
  }
 },
 "nbformat": 4,
 "nbformat_minor": 2
}
