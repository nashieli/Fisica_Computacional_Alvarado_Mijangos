{
 "cells": [
  {
   "cell_type": "code",
   "execution_count": 172,
   "metadata": {},
   "outputs": [
    {
     "name": "stderr",
     "output_type": "stream",
     "text": [
      "WARNING: replacing module herramientas\n"
     ]
    },
    {
     "data": {
      "text/plain": [
       "herramientas"
      ]
     },
     "execution_count": 172,
     "metadata": {},
     "output_type": "execute_result"
    }
   ],
   "source": [
    "__precompile__() # Se precompila el paquete.\n",
    "\n",
    "module herramientas\n",
    "\n",
    "export metodo_newton\n",
    "\n",
    "\"\"\"documentación del método de Newton\"\"\"\n",
    "\n",
    "function metodo_newton(F,df,valorinicial) #Se define una función que calcule las raíces \n",
    "    #usando el método de Newton que tome como entradas a una función cualquiera, la \n",
    "    #derivada y el valor inicial.\n",
    "    x=valorinicial\n",
    "    for i in 1:100\n",
    "    x=x-F(x)/df(x);\n",
    "    end\n",
    "   return x #Se regresa el valor de la raiz.\n",
    "end\n",
    "\n",
    "export metodo_newton2\n",
    "\n",
    "\"\"\"documentación del segundo método de Newton\"\"\"\n",
    "\n",
    "function metodo_newton2(F,xi,h,error=1e-8) #Se define otra función que calcule las raices \n",
    "    #usando el método de Newton nuevamente, pero ahora sólo tomando las raices hasta \n",
    "    #cierto valor denotado por \"error\".\n",
    "    df=F(xi+h)-F(xi)\n",
    "    d=error+1\n",
    "    while error<d\n",
    "        xi=xi-F(xi)/(df)\n",
    "        d=(F(xi)^2)^(1/2)\n",
    "    end\n",
    "    return xi #Regresa la raiz.\n",
    "end\n",
    "\n",
    "export metodo_newton3\n",
    "\n",
    "\"\"\"documentación del tercer método de Newton\"\"\"\n",
    "\n",
    "function metodo_newton3(F,xa,xb,h,error=1e-10) #Se crea una rutina donde en lugar de \n",
    "    #tomar una sóla condición inicial, reciba un rango de condiciones iniciales.\n",
    "    raices=[] #Se define el vector raices.\n",
    "    for i in linspace(xa,xb,200) #Se realiza la iteración 200 veces en el intervalo inicial.\n",
    "        \n",
    "        d=error+1\n",
    "        while error<d\n",
    "            i=i-F(i)/(F(i+h)-F(i))\n",
    "            d=(F(i)^2)^(1/2)\n",
    "        end\n",
    "     \n",
    "        push!(raices,i) #Guarda las raices en el vector definido raices.\n",
    "    end\n",
    "    return raices #Devuelve el vector.\n",
    "end\n",
    "\n",
    "export metodo_trapecio\n",
    "\n",
    "\"\"\"documentación del método del Trapecio\"\"\"\n",
    "\n",
    "function metodo_trapecio(f,a,b,n) #Se define una función que calcule la integral de una \n",
    "    #función dada usando el método del trapecio que tome como entradas a la función, el \n",
    "    #intervalo de integración, y el número de particiones del intervalo.\n",
    "    x=a\n",
    "    I=0\n",
    "    while x<b\n",
    "        x=x+((b-a)/n)\n",
    "        I += (b-a)*(f(x)+f(x+(b-a)/n))/2n\n",
    "    end\n",
    "   return I #Se regresa el valor de la integral.\n",
    "end\n",
    "\n",
    "export metodo_rectangulo\n",
    "\n",
    "\"\"\"documentación del método del Rectángulo\"\"\"\n",
    "\n",
    "\n",
    "function metodo_rectangulo(F,a,b,n) #Se define una función que calcule la integral de \n",
    "    #una función dada usando el método del rectángulo que tome como entradas a la función, \n",
    "    #el intervalo de integración, y el número de particiones del intervalo.\n",
    "    x=a\n",
    "    I=0\n",
    "    while x<b\n",
    "        x=x+((b-a)/n)\n",
    "        I += ((b-a)/n)*F(x+((b-a)/2n))\n",
    "    end\n",
    "   return I #Se regresa el valor de la integral.\n",
    "end\n",
    "\n",
    "export metodo_simpson\n",
    "\n",
    "\"\"\"documentación del método de Simpson\"\"\"\n",
    "\n",
    "function metodo_simpson(F,a,b,n) #Se define una función que calcule la integral de una función \n",
    "    #dada usando el método de Simpson que tome como entradas a la función, el intervalo de \n",
    "    #integración, y el número de particiones del intervalo.\n",
    "    x = a\n",
    "    I = 0\n",
    "    while x < b\n",
    "        x = x + ((b-a) / n)\n",
    "        I += (b - a) * (F(x) + 4 * F(x + (b-a) / 2n) + F(x + (b-a)/n)) / 6n\n",
    "    end\n",
    "   return I #Se regresa el valor de la integral.\n",
    "end\n",
    "\n",
    "export metodo_euler\n",
    "\n",
    "\"\"\"documentación del método de Euler vectorial\"\"\"\n",
    "\n",
    "function metodo_euler_vec(f,list,x0) #Se crea una función que implementa el método de Euler vectorial. \n",
    "    #Dicha función toma como entradas la función, una lista y el valor inicial x0.\n",
    "     x = x0 #Se asigna a x el valor inicial x0.\n",
    "     h = list[2]-list[1] #Se escribe el paso de h.\n",
    "     listx = [] #Se crea un vector vacío.\n",
    "     for i in 2:length(list)\n",
    "        t = i*h #Se calculan los valores de t.\n",
    "        x = x + f(x,t)*h #Se realiza la operación del método de Euler.\n",
    "        push!(listx,x) #Se guarda en listx los valores de x que se obtienen del método de Euler.\n",
    "     end\n",
    "     return listx #Se regresa la lista de x.\n",
    "end\n",
    "\n",
    "export metodo_implicito_euler\n",
    "\n",
    "\"\"\"documentación del método implícito de Euler\"\"\"\n",
    "\n",
    "function metodo_implicito_euler(f,x0,t0,tf,h) #Se crea una función que permite, mediante el método\n",
    "    # implícito de Euler, obtener la solución aproximada de una ecuación diferencial. Dicha función \n",
    "    #toma como entradas la función que aparece en tal ecuación, la condición inicial, el valor inicial \n",
    "    #de t, el valor final de t, y el valor de h.\n",
    "    listt = [] #Se crea un vector cuyo valor inicial es t0 y valor final tf donde la separación entre  \n",
    "    #sus valores está dada por el valor de h.\n",
    "    listx = [] #Se crea un vector en donde se guardan los valores xk del método implícito de Euler.\n",
    "    xk = x0\n",
    "    \n",
    "    for i in t0:h:tf\n",
    "        push!(listt,i) \n",
    "    end\n",
    "\n",
    "    for j in 1:length(listt) #Se realiza un for donde le da un intervalo a j cuyo tamaño es el de \n",
    "     #la lista de t.\n",
    "        push!(listx,xk) #Se guardan los valores xk en listx.\n",
    "        g = - f(listt[j], xk)*h #Se define una función g que se usará en el método implícito.\n",
    "        dg = 1 - f(listt[j], xk + h) + f(listt[j],xk) #Se escribe la derivada de la función g.\n",
    "        xk = xk - g/dg #Se realiza la operación que determina los valores xk\n",
    "    end\n",
    "    \n",
    "    return listt, listx #Se regresan la listas listt y listx.\n",
    "end\n",
    "\n",
    "export metodo_explicito_regla_punto_medio\n",
    "\n",
    "\"\"\"documentación del método explícito de Euler (regla del punto medio)\"\"\"\n",
    "\n",
    "function metodo_explicito_regla_punto_medio(f,x0,t0,tf,h) #Se crea una función que permite, \n",
    "    #mediante el método del punto medio, obtener la solución aproximada de una ecuación \n",
    "    #diferencial. Las entradas de esta función son las mismas que aquellas de la función \n",
    "    #para el método implícito de Euler.\n",
    "    listt_medio = [] #Se crea un vector cuyo valor inicial es t0 y valor final tf donde la \n",
    "    #separación entre sus valores está dada por el valor de h.\n",
    "        for i in t0:h/2:tf\n",
    "            push!(listt_medio,i)\n",
    "        end\n",
    "    listx = [] #Se crea un vector en donde se guardan los valores xk del método de la regla \n",
    "    #del punto medio.\n",
    "    xk = x0\n",
    "        for j in 1:length(listt_medio) #Se realiza un for donde se le asigna un intervalo a j \n",
    "        #cuyo tamaño es la mitad del tamaño de la lista t.\n",
    "        if iseven(j) \n",
    "            push!(listx,xk) #Se guarda el valor de j en la lista x.\n",
    "            xk = xk + f(listt_medio[j+1],xk+ f(xk,listt_medio[j]*h/2))*h #Se crea una función \n",
    "            #que se requiere en este método.\n",
    "        end\n",
    "        \n",
    "        end\n",
    "    push!(listx,xk)\n",
    "        listt = [] #Se crea un vector cuyo valor inicial es t0 y valor final tf donde la \n",
    "    #separación entre sus valores está dada por el valor de h.\n",
    "        for i in t0:h:tf\n",
    "            push!(listt,i)\n",
    "        end\n",
    "    return listt, listx #Se regresan la listas listt y listx.\n",
    "end\n",
    "\n",
    "export metodo_runge_kutta_vec\n",
    "\n",
    "\"\"\"documentación del método de Runge-Kutta de orden 4 vectorial\"\"\"\n",
    "\n",
    "function metodo_runge_kutta_vec(f,list,x0) #Se crea una función que permite, mediante el\n",
    "    #método de Runge-Kutta de orden 4 vectorial, obtener la solución aproximada de una \n",
    "    #ecuación diferencial. Las entradas de esta función son la función, el valor inicial x0 \n",
    "    #y una lista.\n",
    "    \n",
    "    x = x0\n",
    "    h = list[2]-list[1] #Se calcula el tamaño del paso.\n",
    "    listx = [] #Se crea un vector en donde se guardan los valores xk del método de Runge-Kutta de \n",
    "    #orden 4.\n",
    "    push!(listx,x) #Se  guardan la los valores de x en listx.\n",
    "    \n",
    "        for i in 2:length(list) #Se realiza un for donde se da un intervalo a i cuyo tamaño es el\n",
    "        #de la lista t.\n",
    "            t = i*h\n",
    "            #Se definen funciones necesarias para implementar el método de Runge-Kutta de orden 4.\n",
    "            k1 = f(x,t)\n",
    "            k2 = f(x + ((h/2) * k1),t + h/2)\n",
    "            k3 = f(x + ((h/2) * k2),t + h/2)\n",
    "            k4 = f(x + h * k3,t + h)\n",
    "            x = x + (h/6) * (k1 + 2 * k2 + 2 * k3 + k4)#Se realiza la operación que determina los \n",
    "            #valores xk.\n",
    "            push!(listx,x) #Se guarda el valor de xk en la lista x.\n",
    "        end\n",
    "     return listx #Se regresa la lista listx.\n",
    "end\n",
    "\n",
    "end"
   ]
  },
  {
   "cell_type": "code",
   "execution_count": 173,
   "metadata": {},
   "outputs": [
    {
     "data": {
      "text/plain": [
       "f (generic function with 2 methods)"
      ]
     },
     "execution_count": 173,
     "metadata": {},
     "output_type": "execute_result"
    }
   ],
   "source": [
    "f(x) = x^2"
   ]
  },
  {
   "cell_type": "markdown",
   "metadata": {},
   "source": [
    "#### Se realiza una comprobación del funcionamiento del método de Newton"
   ]
  },
  {
   "cell_type": "code",
   "execution_count": 174,
   "metadata": {},
   "outputs": [
    {
     "data": {
      "text/plain": [
       "3.141592653589793"
      ]
     },
     "execution_count": 174,
     "metadata": {},
     "output_type": "execute_result"
    }
   ],
   "source": [
    "herramientas.metodo_newton(sin,cos,2)"
   ]
  },
  {
   "cell_type": "code",
   "execution_count": 175,
   "metadata": {},
   "outputs": [
    {
     "data": {
      "text/markdown": [
       "documentación del método de Newton\n"
      ],
      "text/plain": [
       "documentación del método de Newton\n"
      ]
     },
     "execution_count": 175,
     "metadata": {},
     "output_type": "execute_result"
    }
   ],
   "source": [
    "?herramientas.metodo_newton"
   ]
  },
  {
   "cell_type": "code",
   "execution_count": 176,
   "metadata": {},
   "outputs": [
    {
     "name": "stderr",
     "output_type": "stream",
     "text": [
      "WARNING: could not import herramientas.jl into Main\n"
     ]
    }
   ],
   "source": [
    "import herramientas.jl"
   ]
  },
  {
   "cell_type": "code",
   "execution_count": 150,
   "metadata": {},
   "outputs": [
    {
     "data": {
      "text/plain": [
       "3.141592653589793"
      ]
     },
     "execution_count": 150,
     "metadata": {},
     "output_type": "execute_result"
    }
   ],
   "source": [
    "herramientas.metodo_newton(sin,cos,2)"
   ]
  },
  {
   "cell_type": "markdown",
   "metadata": {},
   "source": [
    "#### Se realiza una comprobación del funcionamiento del segundo método de Newton"
   ]
  },
  {
   "cell_type": "code",
   "execution_count": 151,
   "metadata": {},
   "outputs": [
    {
     "data": {
      "text/plain": [
       "3.141592662224961"
      ]
     },
     "execution_count": 151,
     "metadata": {},
     "output_type": "execute_result"
    }
   ],
   "source": [
    "herramientas.metodo_newton2(sin,2,0.9)"
   ]
  },
  {
   "cell_type": "code",
   "execution_count": 152,
   "metadata": {},
   "outputs": [
    {
     "data": {
      "text/markdown": [
       "documentación del segundo método de Newton\n"
      ],
      "text/plain": [
       "documentación del segundo método de Newton\n"
      ]
     },
     "execution_count": 152,
     "metadata": {},
     "output_type": "execute_result"
    }
   ],
   "source": [
    "?herramientas.metodo_newton2"
   ]
  },
  {
   "cell_type": "markdown",
   "metadata": {},
   "source": [
    "#### Se realiza una comprobación del funcionamiento del tercer método de Newton"
   ]
  },
  {
   "cell_type": "code",
   "execution_count": 153,
   "metadata": {},
   "outputs": [
    {
     "data": {
      "text/plain": [
       "200-element Array{Any,1}:\n",
       "    -6.28319\n",
       "    -9.42478\n",
       "    -9.42478\n",
       "    -9.42478\n",
       "     3.14159\n",
       "   -12.5664 \n",
       "   -15.708  \n",
       "   -18.8496 \n",
       "   -84.823  \n",
       "   -31.4159 \n",
       "   -53.4071 \n",
       "  -144.513  \n",
       " -5353.27   \n",
       "     ⋮      \n",
       "     3.14159\n",
       "     3.14159\n",
       "     3.14159\n",
       "     3.14159\n",
       "     3.14159\n",
       "     3.14159\n",
       "     3.14159\n",
       "     3.14159\n",
       "     3.14159\n",
       "     3.14159\n",
       "     3.14159\n",
       "     3.14159"
      ]
     },
     "execution_count": 153,
     "metadata": {},
     "output_type": "execute_result"
    }
   ],
   "source": [
    "herramientas.metodo_newton3(sin,1.0,3.0,0.9)"
   ]
  },
  {
   "cell_type": "code",
   "execution_count": 154,
   "metadata": {},
   "outputs": [
    {
     "data": {
      "text/markdown": [
       "documentación del tercer método de Newton\n"
      ],
      "text/plain": [
       "documentación del tercer método de Newton\n"
      ]
     },
     "execution_count": 154,
     "metadata": {},
     "output_type": "execute_result"
    }
   ],
   "source": [
    "?herramientas.metodo_newton3"
   ]
  },
  {
   "cell_type": "markdown",
   "metadata": {},
   "source": [
    "#### Se realiza una comprobación del funcionamiento del método del Trapecio"
   ]
  },
  {
   "cell_type": "code",
   "execution_count": 155,
   "metadata": {},
   "outputs": [
    {
     "data": {
      "text/plain": [
       "8.70071201999971"
      ]
     },
     "execution_count": 155,
     "metadata": {},
     "output_type": "execute_result"
    }
   ],
   "source": [
    "herramientas.metodo_trapecio(f,1,3,1000)"
   ]
  },
  {
   "cell_type": "code",
   "execution_count": 156,
   "metadata": {},
   "outputs": [
    {
     "data": {
      "text/markdown": [
       "documentación del método del Trapecio\n"
      ],
      "text/plain": [
       "documentación del método del Trapecio\n"
      ]
     },
     "execution_count": 156,
     "metadata": {},
     "output_type": "execute_result"
    }
   ],
   "source": [
    "?herramientas.metodo_trapecio"
   ]
  },
  {
   "cell_type": "markdown",
   "metadata": {},
   "source": [
    "#### Se realiza una comprobación del funcionamiento del método del Rectángulo"
   ]
  },
  {
   "cell_type": "code",
   "execution_count": 157,
   "metadata": {},
   "outputs": [
    {
     "data": {
      "text/plain": [
       "8.672334537119355"
      ]
     },
     "execution_count": 157,
     "metadata": {},
     "output_type": "execute_result"
    }
   ],
   "source": [
    "herramientas.metodo_rectangulo(f,1,3,6000)"
   ]
  },
  {
   "cell_type": "code",
   "execution_count": 158,
   "metadata": {},
   "outputs": [
    {
     "data": {
      "text/markdown": [
       "documentación del método del Rectángulo\n"
      ],
      "text/plain": [
       "documentación del método del Rectángulo\n"
      ]
     },
     "execution_count": 158,
     "metadata": {},
     "output_type": "execute_result"
    }
   ],
   "source": [
    "?herramientas.metodo_rectangulo"
   ]
  },
  {
   "cell_type": "markdown",
   "metadata": {},
   "source": [
    "#### Se realiza una comprobación del funcionamiento del método de Simpson"
   ]
  },
  {
   "cell_type": "code",
   "execution_count": 159,
   "metadata": {},
   "outputs": [
    {
     "data": {
      "text/plain": [
       "41.35293637347601"
      ]
     },
     "execution_count": 159,
     "metadata": {},
     "output_type": "execute_result"
    }
   ],
   "source": [
    "herramientas.metodo_simpson(f,1,5,10000)"
   ]
  },
  {
   "cell_type": "code",
   "execution_count": 99,
   "metadata": {},
   "outputs": [
    {
     "data": {
      "text/markdown": [
       "documentación del método de Simpson\n"
      ],
      "text/plain": [
       "documentación del método de Simpson\n"
      ]
     },
     "execution_count": 99,
     "metadata": {},
     "output_type": "execute_result"
    }
   ],
   "source": [
    "?herramientas.metodo_simpson"
   ]
  },
  {
   "cell_type": "markdown",
   "metadata": {},
   "source": [
    "#### Se realiza una comprobación del funcionamiento del método de Euler vectorial"
   ]
  },
  {
   "cell_type": "code",
   "execution_count": 121,
   "metadata": {},
   "outputs": [
    {
     "data": {
      "text/plain": [
       "50000-element Array{Any,1}:\n",
       " [1.0,-0.01]                                      \n",
       " [0.9999,-0.0199]                                 \n",
       " [0.9997010000000001,-0.0297]                     \n",
       " [0.9994040000000001,-0.03940001]                 \n",
       " [0.9990099999000001,-0.0490000499]               \n",
       " [0.998519999401,-0.05850014940000001]            \n",
       " [0.997934997907,-0.06790034790001001]            \n",
       " [0.997255994428,-0.07720069440007991]            \n",
       " [0.9964839874839991,-0.08640124740035912]        \n",
       " [0.9956199750099956,-0.09550207480119552]        \n",
       " [0.9946649542619836,-0.10450325380328351]        \n",
       " [0.9936199217239509,-0.11340487080787051]        \n",
       " [0.9924858730158722,-0.12220702131703132]        \n",
       " ⋮                                                \n",
       " [6.061623120076256e-109,-1.154965127522583e-108] \n",
       " [5.946126607323998e-109,-1.1494770993674333e-108]\n",
       " [5.831178897387254e-109,-1.143928454981083e-108] \n",
       " [5.716786051889146e-109,-1.1383203493286595e-108]\n",
       " [5.60295401695628e-109,-1.132653931887262e-108]  \n",
       " [5.489688623767554e-109,-1.1269303465853458e-108]\n",
       " [5.376995589109019e-109,-1.1211507317432598e-108]\n",
       " [5.264880515934693e-109,-1.1153162200149363e-108]\n",
       " [5.1533488939332e-109,-1.1094279383307216e-108]  \n",
       " [5.042406100100128e-109,-1.1034870078413477e-108]\n",
       " [4.932057399315994e-109,-1.0974945438630343e-108]\n",
       " [4.822307944929691e-109,-1.0914516558237199e-108]"
      ]
     },
     "execution_count": 121,
     "metadata": {},
     "output_type": "execute_result"
    }
   ],
   "source": [
    "h(x,t) = [x[2],-x[1]-x[2]] #Se define la función asociada al sistema de ecuaciones \n",
    "#del oscilador armónico amortiguado.\n",
    "list = 0:0.01:500 #Se crea una lista particular para realizar el método de Euler.\n",
    "herramientas.metodo_euler_vec(f,list,[1,0]) #Se crea un vector particular para realizar el método de \n",
    "#Euler,con condiciones iniciales x(0)=1, x'(0)=1."
   ]
  },
  {
   "cell_type": "code",
   "execution_count": 23,
   "metadata": {
    "collapsed": true
   },
   "outputs": [],
   "source": [
    "using PyPlot"
   ]
  },
  {
   "cell_type": "code",
   "execution_count": 122,
   "metadata": {},
   "outputs": [
    {
     "data": {
      "image/png": "[encoded data removed]",
      "text/plain": [
       "PyPlot.Figure(PyObject <matplotlib.figure.Figure object at 0x7f6369c15f90>)"
      ]
     },
     "metadata": {},
     "output_type": "display_data"
    }
   ],
   "source": [
    "vec = herramientas.metodo_euler_vec(h,list,[1,0]) #Se crea un vector particular para realizar el método de \n",
    "#Euler,con condiciones iniciales x(0)=1, x'(0)=1.\n",
    "listx1 = map(x->x[1],vec) #Guarda  los elementos x[1] de cada elemeno de vec en listx1.\n",
    "listx2 = map(x->x[2],vec) #Guarda  los elementos x[2] de cada elemeno de vec en listx2.\n",
    "xlabel(\"x\");ylabel(\"u\")\n",
    "plot(listx1,listx2) #Se grafica la posición contra la velocidad.\n",
    "legend()"
   ]
  },
  {
   "cell_type": "code",
   "execution_count": 25,
   "metadata": {},
   "outputs": [
    {
     "data": {
      "text/markdown": [
       "documentación del método de Euler\n"
      ],
      "text/plain": [
       "documentación del método de Euler\n"
      ]
     },
     "execution_count": 25,
     "metadata": {},
     "output_type": "execute_result"
    }
   ],
   "source": [
    "?herramientas.metodo_euler"
   ]
  },
  {
   "cell_type": "markdown",
   "metadata": {},
   "source": [
    "#### Se realiza una comprobación del funcionamiento  del método implícito de Euler"
   ]
  },
  {
   "cell_type": "code",
   "execution_count": 84,
   "metadata": {},
   "outputs": [
    {
     "data": {
      "text/plain": [
       "g (generic function with 1 method)"
      ]
     },
     "execution_count": 84,
     "metadata": {},
     "output_type": "execute_result"
    }
   ],
   "source": [
    "function g(t,x) #Se crea una función que se utilizará en el método de Runge-Kutta.\n",
    "    return -x\n",
    "end"
   ]
  },
  {
   "cell_type": "code",
   "execution_count": 85,
   "metadata": {},
   "outputs": [
    {
     "data": {
      "text/plain": [
       "(Any[0.0,0.1,0.2,0.3,0.4,0.5,0.6,0.7,0.8,0.9  …  9.1,9.2,9.3,9.4,9.5,9.6,9.7,9.8,9.9,10.0],Any[1,0.9090909090909091,0.8264462809917354,0.7513148009015777,0.6830134553650706,0.6209213230591552,0.5644739300537774,0.5131581182307068,0.4665073802097334,0.42409761837248494  …  0.00017110616225566146,0.0001555510565960559,0.0001414100514509599,0.00012855459222814537,0.00011686781111649579,0.00010624346465135981,9.658496786487255e-5,8.780451624079322e-5,7.98222874916302e-5,7.2565715901482e-5])"
      ]
     },
     "execution_count": 85,
     "metadata": {},
     "output_type": "execute_result"
    }
   ],
   "source": [
    "herramientas.metodo_implicito_euler(g,1,0,10,0.1)"
   ]
  },
  {
   "cell_type": "code",
   "execution_count": 89,
   "metadata": {},
   "outputs": [
    {
     "data": {
      "image/png": "[encoded data removed]",
      "text/plain": [
       "PyPlot.Figure(PyObject <matplotlib.figure.Figure object at 0x7f636a107a10>)"
      ]
     },
     "metadata": {},
     "output_type": "display_data"
    },
    {
     "data": {
      "text/plain": [
       "PyObject <matplotlib.text.Text object at 0x7f6369d292d0>"
      ]
     },
     "execution_count": 89,
     "metadata": {},
     "output_type": "execute_result"
    }
   ],
   "source": [
    "#Se grafica la solución usando el método implícito y también se grafica la solución exacta.\n",
    "t = []\n",
    "x = []\n",
    "for i in 0:50\n",
    "    push!(t,10*i/50)\n",
    "    push!(x,exp(-t[i+1]))\n",
    "end\n",
    "plot(t,x)\n",
    "listt,listx = herramientas.metodo_implicito_euler(g,1,0,10,0.1)\n",
    "plot(listt,listx)\n",
    "ylabel(\"x,listx\")\n",
    "xlabel(\"t,listt\")"
   ]
  },
  {
   "cell_type": "code",
   "execution_count": 103,
   "metadata": {},
   "outputs": [
    {
     "data": {
      "text/markdown": [
       "documentación del método implícito de Euler\n"
      ],
      "text/plain": [
       "documentación del método implícito de Euler\n"
      ]
     },
     "execution_count": 103,
     "metadata": {},
     "output_type": "execute_result"
    }
   ],
   "source": [
    "?herramientas.metodo_implicito_euler"
   ]
  },
  {
   "cell_type": "markdown",
   "metadata": {},
   "source": [
    "#### Se realiza una comprobación del funcionamiento  del método explícito de Euler (regla del punto medio)"
   ]
  },
  {
   "cell_type": "code",
   "execution_count": 128,
   "metadata": {},
   "outputs": [
    {
     "data": {
      "text/plain": [
       "(Any[0.0,0.001,0.002,0.003,0.004,0.005,0.006,0.007,0.008,0.009  …  9.991,9.992,9.993,9.994,9.995,9.996,9.997,9.998,9.999,10.0],Any[1,0.99900000025,0.99800100099975,0.9970030012487502,0.9960059999975014,0.9950099962475039,0.9940149890012564,0.9930209772622551,0.9920279600349928,0.9910359363249578  …  0.004541354725945129,0.004541809121219184,0.004542263562097965,0.004542718048535867,0.004543172580487331,0.004543627157906844,0.004544081780748937,0.004544536448968188,0.00454499116251922,0.004545445921356701])"
      ]
     },
     "execution_count": 128,
     "metadata": {},
     "output_type": "execute_result"
    }
   ],
   "source": [
    "herramientas.metodo_explicito_regla_punto_medio(g,1,0,10,0.001)"
   ]
  },
  {
   "cell_type": "code",
   "execution_count": 134,
   "metadata": {},
   "outputs": [
    {
     "data": {
      "image/png": "[encoded data removed]",
      "text/plain": [
       "PyPlot.Figure(PyObject <matplotlib.figure.Figure object at 0x7f636a147650>)"
      ]
     },
     "metadata": {},
     "output_type": "display_data"
    },
    {
     "data": {
      "text/plain": [
       "PyObject <matplotlib.text.Text object at 0x7f636a0da090>"
      ]
     },
     "execution_count": 134,
     "metadata": {},
     "output_type": "execute_result"
    }
   ],
   "source": [
    "t = []\n",
    "x = []\n",
    "for i in 0:50\n",
    "    push!(t,10*i/50)\n",
    "    push!(x,exp(-t[i+1]))\n",
    "end\n",
    "plot(t,x)\n",
    "listt,listx = herramientas.metodo_explicito_regla_punto_medio(g,1,0,10,0.002)\n",
    "plot(listt,listx)\n",
    "ylabel(\"x,listx\")\n",
    "xlabel(\"t,listt\")"
   ]
  },
  {
   "cell_type": "code",
   "execution_count": 137,
   "metadata": {},
   "outputs": [
    {
     "data": {
      "text/markdown": [
       "documentación del método explícito de Euler (regla del punto medio)\n"
      ],
      "text/plain": [
       "documentación del método explícito de Euler (regla del punto medio)\n"
      ]
     },
     "execution_count": 137,
     "metadata": {},
     "output_type": "execute_result"
    }
   ],
   "source": [
    "?herramientas.metodo_explicito_regla_punto_medio"
   ]
  },
  {
   "cell_type": "markdown",
   "metadata": {},
   "source": [
    "#### Se realiza una comprobación del funcionamiento  del método de Runge-Kutta de orden 4 vectorial"
   ]
  },
  {
   "cell_type": "code",
   "execution_count": 124,
   "metadata": {},
   "outputs": [
    {
     "data": {
      "text/plain": [
       "2001-element Array{Any,1}:\n",
       " [1,0]                                            \n",
       " [0.9951666666666666,-0.09500416666666665]        \n",
       " [0.9813309027604167,-0.18006416803819442]        \n",
       " [0.9594809571660794,-0.2553175363026823]         \n",
       " [0.9305872361012872,-0.3209819605401623]         \n",
       " [0.8955947741173134,-0.37734558893117326]        \n",
       " [0.8554166628206643,-0.4247575838822942]         \n",
       " [0.8109284086582803,-0.4636189958055038]         \n",
       " [0.7629631850024265,-0.49437401200267783]        \n",
       " [0.712307938576277,-0.5175016281678618]          \n",
       " [0.6597003059404275,-0.5335077814801433]         \n",
       " [0.6058262922720123,-0.5429179761622349]         \n",
       " [0.551318661965718,-0.5462704247591967]          \n",
       " ⋮                                                \n",
       " [-3.6492576204057083e-44,-3.796296602846927e-44] \n",
       " [-3.9922835370800507e-44,-3.0705891615815695e-44]\n",
       " [-4.2647062644559193e-44,-2.384745645624827e-44] \n",
       " [-4.4706542902855976e-44,-1.7414937374970106e-44]\n",
       " [-4.614495289168673e-44,-1.1428965711763116e-44] \n",
       " [-4.70077183160182e-44,-5.903963552167677e-45]   \n",
       " [-4.734141548146151e-44,-8.485974855134244e-46]  \n",
       " [-4.719321893691442e-44,3.733756092583205e-45]   \n",
       " [-4.661039599260687e-44,7.844539656109034e-45]   \n",
       " [-4.563984845906368e-44,1.1489542257473205e-44]  \n",
       " [-4.432770147062551e-44,1.4678430851989017e-44]  \n",
       " [-4.2718938822449985e-44,1.7424289350269115e-44] "
      ]
     },
     "execution_count": 124,
     "metadata": {},
     "output_type": "execute_result"
    }
   ],
   "source": [
    "F(x,t) = [x[2],-x[1]-x[2]] #Se define la función asociada al sistema de ecuaciones \n",
    "#del oscilador armónico amortiguado.\n",
    "list1 = 0:0.1:200 #Se crea una lista particular para realizar el método de Runge-Kutta.\n",
    "herramientas.metodo_runge_kutta_vec(f,list1,[1,0]) #definimos un vector donde usando método de\n",
    "#Runge Kutta con condiciones iniciales x(0)=1, x'(0)=1,"
   ]
  },
  {
   "cell_type": "code",
   "execution_count": 125,
   "metadata": {},
   "outputs": [
    {
     "data": {
      "image/png": "[encoded data removed]",
      "text/plain": [
       "PyPlot.Figure(PyObject <matplotlib.figure.Figure object at 0x7f6369a70d90>)"
      ]
     },
     "metadata": {},
     "output_type": "display_data"
    }
   ],
   "source": [
    "vec1 = herramientas.metodo_runge_kutta_vec(F,list1,[1,0]) #definimos un vector donde usando \n",
    "#método de Runge Kutta con condiciones iniciales x(0)=1, x'(0)=1.\n",
    "listx3 = map(x->x[1],vec1) #Guarda  los elementos x[1] de cada elemeno de vec1 en listx3.\n",
    "listx4 = map(x->x[2],vec1) #Guarda  los elementos x[2] de cada elemeno de vec1 en listx4.\n",
    "xlabel(\"x\");ylabel(\"u\")\n",
    "plot(listx3,listx4) #Se grafica posición contra velocidad usando Runge-Kutta.\n",
    "legend()"
   ]
  },
  {
   "cell_type": "code",
   "execution_count": 30,
   "metadata": {},
   "outputs": [
    {
     "data": {
      "text/markdown": [
       "documentación del método de Runge-Kutta de orden 4 vectorial\n"
      ],
      "text/plain": [
       "documentación del método de Runge-Kutta de orden 4 vectorial\n"
      ]
     },
     "execution_count": 30,
     "metadata": {},
     "output_type": "execute_result"
    }
   ],
   "source": [
    "?herramientas.metodo_runge_kutta_vec"
   ]
  },
  {
   "cell_type": "code",
   "execution_count": null,
   "metadata": {
    "collapsed": true
   },
   "outputs": [],
   "source": []
  }
 ],
 "metadata": {
  "kernelspec": {
   "display_name": "Julia 0.4.5",
   "language": "julia",
   "name": "julia-0.4"
  },
  "language_info": {
   "file_extension": ".jl",
   "mimetype": "application/julia",
   "name": "julia",
   "version": "0.4.5"
  }
 },
 "nbformat": 4,
 "nbformat_minor": 2
}
