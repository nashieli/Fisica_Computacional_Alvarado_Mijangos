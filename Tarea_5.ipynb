{
 "cells": [
  {
   "cell_type": "markdown",
   "metadata": {
    "collapsed": true
   },
   "source": [
    "# Método de Integración de Riemann\n",
    "\n",
    " \n",
    "Sea $f(x):[a,b] \\subset \\mathbb{R} \\rightarrow \\mathbb{R}$ y sea $P = \\{ x_0 = a, x_1, \\ldots , x_n = b \\} $ una partición del intervalo $[a,b]$\n",
    "La suma de Riemann se define como\n",
    "\n",
    "$S(P,f) = \\sum_{k=1}^{N} \\; f(t_k)(x_{k} -x_{k-1})$ donde $x_{k-1} \\leq t_k \\leq x_{k}$\n",
    "\n",
    "De este modo, el método de integración de Riemann consiste en aproximar el valor de la integral de la función $f(x)$ por el de la suma $S(P,f)$ de áreas de rectángulos $x_{k} - x_{k-1}$ y altura $f(t_k)$\n",
    "\n",
    "La aproximación de la integral definida en el intervalo $[a,b]$ está dada por \n",
    "\n",
    "$\\int_{a}^{b} \\! f(x)  \\,dx = \\displaystyle{\\lim_{ n \\rightarrow \\infty}} \\displaystyle \\frac{b-a}{n} \\sum_{k=1}^{n} f\\left(a + k\\displaystyle \\frac{b-a}{n} \\right)$\n",
    "\n",
    "\n",
    "# Regla del Trapecio\n",
    "\n",
    "Sea $f$ una función continua y positiva definida en un intervalo $[a,b]$. Dicho intervalo se divide en subintervalos de magnitud $\\Delta x = \\displaystyle \\frac{b-a}{n}$ Entonces la regla consiste en aproximar el valor de la integral de $f$ por el de la suma del área de los n trapecios formados por funciones lineales que pasan por los puntos en los cuales se dividió el intervalo.\n",
    "\n",
    "La aproximación de la integral definida en el intervalo $[a,b]$ es\n",
    "\n",
    "$\\int_{a}^{b} \\! f(x)  \\,dx \\sim \\displaystyle \\frac{h}{2} \\left[ f(a) + 2 f(a+h) + \\ldots + f(b) \\right]$ donde $h= \\displaystyle \\frac{b-a}{n}$\n",
    "\n",
    "\n",
    "O bien\n",
    "\n",
    "$\\int_{a}^{b} \\! f(x)  \\,dx \\sim \\displaystyle \\frac{b-a}{n} \\left[\\displaystyle \\frac{f(a)+f(b)}{2} + \\displaystyle \\sum_{k=1}^{N} \\; f\\left(a + k \\displaystyle \\frac{b-a}{n}\\right) \\right]$ \n",
    "\n",
    "# Regla de Simpson de Segundo Orden\n",
    "\n",
    "Sea $f$ una función definida en el intervalo $[a,b]$ y sea $P_2(x)$ el polinomio interpolador de segundo orden que aproxima a la función $f$ entre los nodos $x_0=a$, $x_1=b$ y $m=\\displaystyle \\frac{a+b}{2}$\n",
    "\n",
    "La expresión de $P_2(x)$, expresado a través de la interpolación polinómica de Lagrange es\n",
    "\n",
    "$P_2(x)= f(a) \\displaystyle \\frac{(x-m)(x-b)}{(a-m)(a-b)} + f(m) \\displaystyle \\frac{(x-a)(x-b)}{(m-a)(m-b)} + f(b) \\displaystyle \\frac{(x-a)(x-m)}{(b-a)(b-m)}$\n",
    "\n",
    "Entonces la aproximación de la integral definida en el intervalo $[a,b]$ es\n",
    "\n",
    "$\\int_{a}^{b} \\! f(x) \\,dx \\sim \\displaystyle \\frac{b-a}{6} \\left[ f(a) + 4f(m) + f(b)\\right]$\n"
   ]
  },
  {
   "cell_type": "markdown",
   "metadata": {},
   "source": []
  }
 ],
 "metadata": {
  "kernelspec": {
   "display_name": "Julia 0.4.5",
   "language": "julia",
   "name": "julia-0.4"
  },
  "language_info": {
   "file_extension": ".jl",
   "mimetype": "application/julia",
   "name": "julia",
   "version": "0.4.5"
  }
 },
 "nbformat": 4,
 "nbformat_minor": 2
}
