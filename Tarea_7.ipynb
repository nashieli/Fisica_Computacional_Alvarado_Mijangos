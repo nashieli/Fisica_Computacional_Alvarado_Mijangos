{
 "cells": [
  {
   "cell_type": "code",
   "execution_count": 6,
   "metadata": {
    "collapsed": true
   },
   "outputs": [],
   "source": [
    "using SymPy"
   ]
  },
  {
   "cell_type": "code",
   "execution_count": 20,
   "metadata": {},
   "outputs": [
    {
     "name": "stderr",
     "output_type": "stream",
     "text": [
      "WARNING: Method definition Interpolador(Any, Any) in module Main at In[15]:2 overwritten at In[20]:2.\n"
     ]
    },
    {
     "data": {
      "text/plain": [
       "Interpolador (generic function with 1 method)"
      ]
     },
     "execution_count": 20,
     "metadata": {},
     "output_type": "execute_result"
    }
   ],
   "source": [
    "function Interpolador(listx,listy)#Se crean las listas de elementos xn, yn de una función dada.\n",
    "function Lagrangeinterpolador(x) #se define la función interpoladora.\n",
    "        \n",
    "        numero = length(x)#Se define el número de elementos en x.\n",
    "        \n",
    "        numero == 1 ? output = 0 : output = zeros(numero) #Se define una lista de ceros.\n",
    "        \n",
    "        for n = 1:numero  #Se interpolan los elementos mediante este for.\n",
    "            \n",
    "            elementoslistx = length(listx)#Se define el número de elementos de la lista x.\n",
    "            \n",
    "            polinomioslagrange = ones(elementoslistx)#Se crean N unos para realizar el producto con cada elemento de \n",
    "        #la lista x.\n",
    "            \n",
    "            for j in 1:elementoslistx  \n",
    "                \n",
    "                for m in [1:j-1;j+1:elementoslistx] #Se calculan las bases polinomiales de Lagrange.   \n",
    "                    \n",
    "                    polinomioslagrange[j] = polinomioslagrange[j].*(x[n]-listx[m])./(listx[j]-listx[m])\n",
    "                    \n",
    "                end \n",
    "                \n",
    "            end\n",
    "            \n",
    "            numero == 1 ? output = sum(polinomioslagrange.*listy) : output[n] = sum(polinomioslagrange.*listy) \n",
    "        \n",
    "        #Se realiza el producto y se realiza la combinación lineal que es la interpolación polinomial.\n",
    "            \n",
    "        end\n",
    "        \n",
    "        return output #Se regresa la interpolacion polinomial.\n",
    "    \n",
    "     end\n",
    "\n",
    "    return Lagrangeinterpolador #Se regresa la función interpoladora.\n",
    "\n",
    "end\n",
    "        "
   ]
  },
  {
   "cell_type": "code",
   "execution_count": 33,
   "metadata": {},
   "outputs": [
    {
     "data": {
      "text/plain": [
       "(::Lagrangeinterpolador) (generic function with 1 method)"
      ]
     },
     "execution_count": 33,
     "metadata": {},
     "output_type": "execute_result"
    }
   ],
   "source": [
    "interpolacion=Interpolador([1.0,4.0,16.0,36.0],[1.0,2.0,4.0,6.0])#Se interpola la función x^1/2 como ejemplo\n",
    "#donde las entradas son elementos de la lista xk y yk"
   ]
  },
  {
   "cell_type": "code",
   "execution_count": 36,
   "metadata": {
    "scrolled": true
   },
   "outputs": [
    {
     "data": {
      "text/plain": [
       "2.0"
      ]
     },
     "execution_count": 36,
     "metadata": {},
     "output_type": "execute_result"
    }
   ],
   "source": [
    "interpolacion(4)#calculamos el valor para un punto dentro del intervalo y vemos que funciona"
   ]
  },
  {
   "cell_type": "markdown",
   "metadata": {},
   "source": [
    "Se interpola la función cos(x)"
   ]
  },
  {
   "cell_type": "code",
   "execution_count": 18,
   "metadata": {
    "collapsed": true
   },
   "outputs": [],
   "source": [
    "x = linspace(0,2pi,10);#Se define la lista de 10 puntos en el intervalo (0,2pi)\n",
    "y = cos.(x) #Se evalúan los elementos en la función coseno."
   ]
  },
  {
   "cell_type": "code",
   "execution_count": 19,
   "metadata": {},
   "outputs": [
    {
     "name": "stderr",
     "output_type": "stream",
     "text": [
      "\u001b[1m\u001b[34mINFO: Recompiling stale cache file /home/est7/.julia/lib/v0.5/PyPlot.ji for module PyPlot.\n",
      "\u001b[0m"
     ]
    }
   ],
   "source": [
    "using PyPlot"
   ]
  },
  {
   "cell_type": "code",
   "execution_count": 37,
   "metadata": {},
   "outputs": [
    {
     "data": {
      "text/plain": [
       "(::Lagrangeinterpolador) (generic function with 1 method)"
      ]
     },
     "execution_count": 37,
     "metadata": {},
     "output_type": "execute_result"
    }
   ],
   "source": [
    "interpolacion = Interpolador(x,y)#Se define la funcion interpoladora que toma como entradas las listas."
   ]
  },
  {
   "cell_type": "code",
   "execution_count": 43,
   "metadata": {},
   "outputs": [
    {
     "data": {
      "text/plain": [
       "1.0"
      ]
     },
     "execution_count": 43,
     "metadata": {},
     "output_type": "execute_result"
    }
   ],
   "source": [
    "interpolacion(0) #Se evalúa la funcion interpoladora en un punto particular como ejemplo."
   ]
  },
  {
   "cell_type": "code",
   "execution_count": 44,
   "metadata": {},
   "outputs": [
    {
     "data": {
      "text/plain": [
       "10-element Array{Float64,1}:\n",
       "  1.0     \n",
       "  0.766044\n",
       "  0.173648\n",
       " -0.5     \n",
       " -0.939693\n",
       " -0.939693\n",
       " -0.5     \n",
       "  0.173648\n",
       "  0.766044\n",
       "  1.0     "
      ]
     },
     "execution_count": 44,
     "metadata": {},
     "output_type": "execute_result"
    }
   ],
   "source": [
    "z = interpolacion.(x)#Se crea otra lista que son los elementos de la evaluación de la funcion interpoladora en la lista x."
   ]
  },
  {
   "cell_type": "code",
   "execution_count": 50,
   "metadata": {
    "scrolled": true
   },
   "outputs": [
    {
     "data": {
      "image/png": "[encoded data removed]",
      "text/plain": [
       "PyPlot.Figure(PyObject <matplotlib.figure.Figure object at 0x7f0334c17050>)"
      ]
     },
     "metadata": {},
     "output_type": "display_data"
    }
   ],
   "source": [
    "plot(x,y,\".\")\n",
    "plot(x,z)\n",
    "ylim(-3,3)\n",
    "show();"
   ]
  }
 ],
 "metadata": {
  "kernelspec": {
   "display_name": "Julia 0.4.5",
   "language": "julia",
   "name": "julia-0.4"
  },
  "language_info": {
   "file_extension": ".jl",
   "mimetype": "application/julia",
   "name": "julia",
   "version": "0.4.5"
  }
 },
 "nbformat": 4,
 "nbformat_minor": 2
}
