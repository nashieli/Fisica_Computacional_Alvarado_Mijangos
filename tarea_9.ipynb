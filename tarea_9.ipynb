{
 "cells": [
  {
   "cell_type": "markdown",
   "metadata": {},
   "source": [
    "## Ejercicio 2"
   ]
  },
  {
   "cell_type": "code",
   "execution_count": 25,
   "metadata": {},
   "outputs": [
    {
     "data": {
      "text/plain": [
       "derivada_numerica (generic function with 1 method)"
      ]
     },
     "execution_count": 25,
     "metadata": {},
     "output_type": "execute_result"
    }
   ],
   "source": [
    "function derivada_numerica(f,x,h) #Se crea la función que realiza la derivada numerica de una función dada\n",
    "    #y que toma como entradas dicha función, el punto y el tamaño de h. \n",
    "    df = (f(x + h) - f(x))/h \n",
    "    return df #Se regresa el valor de la derivada.\n",
    "end"
   ]
  },
  {
   "cell_type": "code",
   "execution_count": 26,
   "metadata": {},
   "outputs": [
    {
     "data": {
      "text/plain": [
       "-0.7071010443837622"
      ]
     },
     "execution_count": 26,
     "metadata": {},
     "output_type": "execute_result"
    }
   ],
   "source": [
    "derivada_numerica(cos,pi/4,1e-12) #Se realiza un ejemplo con la función coseno, el punto pi/4 y h = 1e-12."
   ]
  },
  {
   "cell_type": "code",
   "execution_count": 27,
   "metadata": {},
   "outputs": [
    {
     "data": {
      "text/plain": [
       "-0.7071067811865475"
      ]
     },
     "execution_count": 27,
     "metadata": {},
     "output_type": "execute_result"
    }
   ],
   "source": [
    "-sin(pi/4) #Se comprueba el valor anterior con el de la derivada exacta. "
   ]
  },
  {
   "cell_type": "code",
   "execution_count": 28,
   "metadata": {
    "collapsed": true
   },
   "outputs": [],
   "source": [
    "listdf = [] #Se crea un vector donde se guarda un arreglo de valores de la derivada numérica variando h.\n",
    "for i in 1:100 #Se asigna el intervalo en el que se toma i = 1/h. \n",
    "    push!(listdf,derivada_numerica(cos,pi/4,1/i)) #Se guardan los valores de la derivada numérica en el \n",
    "    #vector listdf.\n",
    "end\n",
    "    "
   ]
  },
  {
   "cell_type": "code",
   "execution_count": 29,
   "metadata": {},
   "outputs": [
    {
     "data": {
      "text/plain": [
       "100-element Array{Any,1}:\n",
       " -0.920065\n",
       " -0.851135\n",
       " -0.810849\n",
       " -0.787693\n",
       " -0.772877\n",
       " -0.762627\n",
       " -0.755126\n",
       " -0.749403\n",
       " -0.744896\n",
       " -0.741255\n",
       " -0.738252\n",
       " -0.735734\n",
       " -0.733593\n",
       "  ⋮       \n",
       " -0.711064\n",
       " -0.711021\n",
       " -0.710978\n",
       " -0.710936\n",
       " -0.710895\n",
       " -0.710855\n",
       " -0.710815\n",
       " -0.710777\n",
       " -0.710739\n",
       " -0.710702\n",
       " -0.710666\n",
       " -0.710631"
      ]
     },
     "execution_count": 29,
     "metadata": {},
     "output_type": "execute_result"
    }
   ],
   "source": [
    "listdf #Se presentan los valores de listdf."
   ]
  },
  {
   "cell_type": "code",
   "execution_count": 46,
   "metadata": {
    "collapsed": true
   },
   "outputs": [],
   "source": [
    "listhinversa = [] #Se crea un vector en el que se guarda el valor 1/h.\n",
    "for i in 1:100 #Se asigna un intervalo para i = 1/h.\n",
    "    push!(listhinversa,i) #Se guarda en el vector listhinversa los puntos i = 1/h.\n",
    "end\n"
   ]
  },
  {
   "cell_type": "code",
   "execution_count": 47,
   "metadata": {},
   "outputs": [
    {
     "data": {
      "text/plain": [
       "100-element Array{Any,1}:\n",
       "   1\n",
       "   2\n",
       "   3\n",
       "   4\n",
       "   5\n",
       "   6\n",
       "   7\n",
       "   8\n",
       "   9\n",
       "  10\n",
       "  11\n",
       "  12\n",
       "  13\n",
       "   ⋮\n",
       "  89\n",
       "  90\n",
       "  91\n",
       "  92\n",
       "  93\n",
       "  94\n",
       "  95\n",
       "  96\n",
       "  97\n",
       "  98\n",
       "  99\n",
       " 100"
      ]
     },
     "execution_count": 47,
     "metadata": {},
     "output_type": "execute_result"
    }
   ],
   "source": [
    "listhinversa #Se presentan los valores de la lista listhinversa."
   ]
  },
  {
   "cell_type": "code",
   "execution_count": 48,
   "metadata": {
    "collapsed": true
   },
   "outputs": [],
   "source": [
    "using PyPlot"
   ]
  },
  {
   "cell_type": "code",
   "execution_count": 59,
   "metadata": {},
   "outputs": [
    {
     "data": {
      "image/png": "[encoded data removed]",
      "text/plain": [
       "PyPlot.Figure(PyObject <matplotlib.figure.Figure object at 0x000000002ADD32E8>)"
      ]
     },
     "metadata": {},
     "output_type": "display_data"
    },
    {
     "data": {
      "text/plain": [
       "PyObject <matplotlib.text.Text object at 0x00000000248CA358>"
      ]
     },
     "execution_count": 59,
     "metadata": {},
     "output_type": "execute_result"
    }
   ],
   "source": [
    "plot(listhinversa,listdf) #Se grafica la derivada y 1/h.\n",
    "xlabel(\"1/h\")\n",
    "ylabel(\"Derivada\")"
   ]
  },
  {
   "cell_type": "code",
   "execution_count": 19,
   "metadata": {},
   "outputs": [
    {
     "data": {
      "text/plain": [
       "errorcoseno (generic function with 1 method)"
      ]
     },
     "execution_count": 19,
     "metadata": {},
     "output_type": "execute_result"
    }
   ],
   "source": [
    "function errorcoseno(x,h) #Se crea una función que calcula el error para la función coseno, cuyas entradas son \n",
    "    #el punto y h.\n",
    "    error = -(derivada_numerica(cos,x,h) + sin(x))/sin(x)\n",
    "end"
   ]
  },
  {
   "cell_type": "code",
   "execution_count": 38,
   "metadata": {
    "collapsed": true
   },
   "outputs": [],
   "source": [
    "listerror = [] #Se crea un vector donde se guarda el arreglo de elementos de la función errorcoseno variando h\n",
    "#para un punto dado.\n",
    "for i in 1:100 #Se asigna un intervalo a i = 1/h.\n",
    "    push!(listerror,errorcoseno(pi/4,1/i)) #Se guardan los elementos de errorcoseno en listerror.\n",
    "end"
   ]
  },
  {
   "cell_type": "code",
   "execution_count": 39,
   "metadata": {},
   "outputs": [
    {
     "data": {
      "text/plain": [
       "100-element Array{Any,1}:\n",
       " 0.301169  \n",
       " 0.203686  \n",
       " 0.146713  \n",
       " 0.113966  \n",
       " 0.0930138 \n",
       " 0.0785174 \n",
       " 0.0679093 \n",
       " 0.0598165 \n",
       " 0.0534421 \n",
       " 0.0482925 \n",
       " 0.0440464 \n",
       " 0.0404856 \n",
       " 0.0374567 \n",
       " ⋮         \n",
       " 0.00559688\n",
       " 0.00553492\n",
       " 0.00547432\n",
       " 0.00541504\n",
       " 0.00535702\n",
       " 0.00530024\n",
       " 0.00524464\n",
       " 0.0051902 \n",
       " 0.00513688\n",
       " 0.00508464\n",
       " 0.00503346\n",
       " 0.00498329"
      ]
     },
     "execution_count": 39,
     "metadata": {},
     "output_type": "execute_result"
    }
   ],
   "source": [
    "listerror #Se presentan los elementos de listerror."
   ]
  },
  {
   "cell_type": "code",
   "execution_count": 55,
   "metadata": {},
   "outputs": [
    {
     "data": {
      "image/png": "[encoded data removed]",
      "text/plain": [
       "PyPlot.Figure(PyObject <matplotlib.figure.Figure object at 0x000000002B032F28>)"
      ]
     },
     "metadata": {},
     "output_type": "display_data"
    },
    {
     "data": {
      "text/plain": [
       "PyObject <matplotlib.text.Text object at 0x000000002AFB0EB8>"
      ]
     },
     "execution_count": 55,
     "metadata": {},
     "output_type": "execute_result"
    }
   ],
   "source": [
    "plot(listhinversa,listerror) #Se grafica 1/h y el error.\n",
    "xlabel(\"1/h\")\n",
    "ylabel(\"Error Relativo\")"
   ]
  },
  {
   "cell_type": "markdown",
   "metadata": {},
   "source": [
    "## Ejercicio 3"
   ]
  },
  {
   "cell_type": "markdown",
   "metadata": {},
   "source": [
    "Partiendo de las series de Taylor\n",
    " $$ f(x+h)=f(x) + h\\frac{df}{dx}+\\frac{h^{2}}{2}\\frac{d^{2}f}{dx^{2}}+\\frac{h^{3}}{3} \\frac{d^{3}f}{dx^{3}}+ \\mathcal{O}\\left(h^{4}\\right)$$ \n",
    " $$ f(x-h)=f(x) - h\\frac{df}{dx}+\\frac{h^{2}}{2}\\frac{d^{2}f}{dx^{2}}-\\frac{h^{3}}{3} \\frac{d^{3}f}{dx^{3}}+ \\mathcal{O}\\left(h^{4}\\right)$$ "
   ]
  },
  {
   "cell_type": "markdown",
   "metadata": {},
   "source": [
    "Restando la segunda de la primera serie se obtiene\n",
    "$$f(x+h)-f(x-h)= 2h\\frac{df}{dx}+ \\frac{2h^{3}}{3} \\frac{d^{3}f}{dx^{3}}+ \\mathcal{O}\\left(h^{5}\\right)$$\n",
    "Tomando sólo el primer término, se tiene\n",
    "$$f(x+h)-f(x-h)= 2h\\frac{df}{dx}+ \\mathcal{O}\\left(h^{3}\\right)$$\n",
    "$$\\frac{f(x+h)-f(x-h)}{2h}-\\frac{df}{dx}=\\mathcal{O}\\left(h^{2}\\right)$$\n",
    "Con la derivada simétrica se tiene un error mas pequeño. Entonces se puede mejorar la aproximación de la derivada numerica mediante la de la derivada simétrica."
   ]
  },
  {
   "cell_type": "markdown",
   "metadata": {},
   "source": [
    "## Ejercicio 4"
   ]
  },
  {
   "cell_type": "code",
   "execution_count": 56,
   "metadata": {},
   "outputs": [
    {
     "data": {
      "text/plain": [
       "derivada_simetrica (generic function with 1 method)"
      ]
     },
     "execution_count": 56,
     "metadata": {},
     "output_type": "execute_result"
    }
   ],
   "source": [
    "function derivada_simetrica(f,x,h) #Se crea la función que realiza la derivada simétrica de una función dada\n",
    "    #y que toma como entradas dicha función, el punto y el tamaño de h. \n",
    "    dfs = ((f(x + h) - f(x-h))/2h)\n",
    "    return dfs #Se regresa el valor de la derivada simétrica.\n",
    "end"
   ]
  },
  {
   "cell_type": "code",
   "execution_count": 24,
   "metadata": {},
   "outputs": [
    {
     "data": {
      "text/plain": [
       "-0.7071010443837622"
      ]
     },
     "execution_count": 24,
     "metadata": {},
     "output_type": "execute_result"
    }
   ],
   "source": [
    "derivada_simetrica(cos,pi/4,1e-12) #Se presenta un ejemplo particular para la función coseno en el mismo \n",
    "#punto y para la misma h que en derivada_numerica."
   ]
  },
  {
   "cell_type": "code",
   "execution_count": 1,
   "metadata": {},
   "outputs": [
    {
     "data": {
      "text/plain": [
       "-0.7071067811865475"
      ]
     },
     "execution_count": 1,
     "metadata": {},
     "output_type": "execute_result"
    }
   ],
   "source": [
    "-sin(pi/4) #Se presenta la derivada exacta para comparar con el valor anterior."
   ]
  },
  {
   "cell_type": "code",
   "execution_count": 2,
   "metadata": {},
   "outputs": [
    {
     "ename": "LoadError",
     "evalue": "UndefVarError: derivada_simetrica not defined",
     "output_type": "error",
     "traceback": [
      "UndefVarError: derivada_simetrica not defined",
      "",
      " [inlined code] from ./In[2]:3",
      " in anonymous at ./no file:4294967295"
     ]
    }
   ],
   "source": [
    "listdfs = [] #Se crea un vector donde se guarda un arreglo de valores de la derivada simétrica variando h.\n",
    "for i in 1:100 #Se asigna el intervalo en el que se toma i = 1/h. \n",
    "    push!(listdfs,derivada_simetrica(cos,pi/4,1/i)) #Se guardan los valores de la derivada simétrica en el \n",
    "    #vector listdfs.\n",
    "end"
   ]
  },
  {
   "cell_type": "code",
   "execution_count": 63,
   "metadata": {},
   "outputs": [
    {
     "data": {
      "text/plain": [
       "100-element Array{Any,1}:\n",
       " -0.920065\n",
       " -0.851135\n",
       " -0.810849\n",
       " -0.787693\n",
       " -0.772877\n",
       " -0.762627\n",
       " -0.755126\n",
       " -0.749403\n",
       " -0.744896\n",
       " -0.741255\n",
       " -0.738252\n",
       " -0.735734\n",
       " -0.733593\n",
       "  ⋮       \n",
       " -0.711064\n",
       " -0.711021\n",
       " -0.710978\n",
       " -0.710936\n",
       " -0.710895\n",
       " -0.710855\n",
       " -0.710815\n",
       " -0.710777\n",
       " -0.710739\n",
       " -0.710702\n",
       " -0.710666\n",
       " -0.710631"
      ]
     },
     "execution_count": 63,
     "metadata": {},
     "output_type": "execute_result"
    }
   ],
   "source": [
    "listdfs #Se presentan los valores de listdfs."
   ]
  },
  {
   "cell_type": "code",
   "execution_count": 64,
   "metadata": {},
   "outputs": [
    {
     "data": {
      "image/png": "[encoded data removed]",
      "text/plain": [
       "PyPlot.Figure(PyObject <matplotlib.figure.Figure object at 0x00000000246778D0>)"
      ]
     },
     "metadata": {},
     "output_type": "display_data"
    },
    {
     "data": {
      "text/plain": [
       "PyObject <matplotlib.text.Text object at 0x0000000024BC80F0>"
      ]
     },
     "execution_count": 64,
     "metadata": {},
     "output_type": "execute_result"
    }
   ],
   "source": [
    "plot(listhinversa,listdfs) #Se grafica 1/h y la derivada simétrica.\n",
    "xlabel(\"1/h\")\n",
    "ylabel(\"Derivada Simétrca\")"
   ]
  },
  {
   "cell_type": "code",
   "execution_count": 65,
   "metadata": {},
   "outputs": [
    {
     "data": {
      "text/plain": [
       "errorcosenosimetrica (generic function with 1 method)"
      ]
     },
     "execution_count": 65,
     "metadata": {},
     "output_type": "execute_result"
    }
   ],
   "source": [
    "function errorcosenosimetrica(x,h) #Se crea una función que calcula el error de la derivada simétrica\n",
    "    #para la función coseno, las entradas de esta función son el punto y h.\n",
    "    error = -(derivada_simetrica(cos,x,h) + sin(x))/sin(x)\n",
    "end"
   ]
  },
  {
   "cell_type": "code",
   "execution_count": null,
   "metadata": {
    "collapsed": true
   },
   "outputs": [],
   "source": [
    "listerror = [] \n",
    "for i in 1:100 #Se asigna un intervalo a i = 1/h.\n",
    "    push!(listerror,errorcoseno(pi/4,1/i)) #Se guardan los elementos de errorcoseno en listerror.\n",
    "end"
   ]
  },
  {
   "cell_type": "code",
   "execution_count": 66,
   "metadata": {
    "collapsed": true
   },
   "outputs": [],
   "source": [
    "listerrorsimetrica = [] #Se crea un vector donde se guarda el arreglo de elementos de la función errorcoseno\n",
    "#variando h para un punto dado.\n",
    "for i in 1:100 #Se asigna un intervalo a i = 1/h.\n",
    "    push!(listerrorsimetrica,errorcosenosimetrica(pi/4,1/i)) #Se guardan los elementos de errorcosenosimetrica\n",
    "    #en listerrorsimetrica.\n",
    "end"
   ]
  },
  {
   "cell_type": "code",
   "execution_count": 67,
   "metadata": {},
   "outputs": [
    {
     "data": {
      "text/plain": [
       "100-element Array{Any,1}:\n",
       " -0.158529   \n",
       " -0.0411489  \n",
       " -0.0184159  \n",
       " -0.0103842  \n",
       " -0.00665335 \n",
       " -0.0046232  \n",
       " -0.00339789 \n",
       " -0.00260213 \n",
       " -0.00205634 \n",
       " -0.00166583 \n",
       " -0.00137684 \n",
       " -0.00115701 \n",
       " -0.000985902\n",
       "  ⋮          \n",
       " -2.1041e-5  \n",
       " -2.0576e-5  \n",
       " -2.01263e-5 \n",
       " -1.96911e-5 \n",
       " -1.92699e-5 \n",
       " -1.88621e-5 \n",
       " -1.84671e-5 \n",
       " -1.80844e-5 \n",
       " -1.77134e-5 \n",
       " -1.73538e-5 \n",
       " -1.7005e-5  \n",
       " -1.66666e-5 "
      ]
     },
     "execution_count": 67,
     "metadata": {},
     "output_type": "execute_result"
    }
   ],
   "source": [
    "listerrorsimetrica #Se presentan los valores de listerrrorsimetrica."
   ]
  },
  {
   "cell_type": "code",
   "execution_count": 68,
   "metadata": {},
   "outputs": [
    {
     "data": {
      "image/png": "[encoded data removed]",
      "text/plain": [
       "PyPlot.Figure(PyObject <matplotlib.figure.Figure object at 0x0000000028B21198>)"
      ]
     },
     "metadata": {},
     "output_type": "display_data"
    },
    {
     "data": {
      "text/plain": [
       "PyObject <matplotlib.text.Text object at 0x0000000024DD4B00>"
      ]
     },
     "execution_count": 68,
     "metadata": {},
     "output_type": "execute_result"
    }
   ],
   "source": [
    "plot(listhinversa,listerrorsimetrica) #Se grafica 1/h y el error relativo.\n",
    "xlabel(\"1/h\")\n",
    "ylabel(\"Error Relativo\")"
   ]
  },
  {
   "cell_type": "markdown",
   "metadata": {},
   "source": [
    "Se puede observar de las gráficas de errores que en el caso de la derivada simétrica se tiene un error más pequeño."
   ]
  },
  {
   "cell_type": "markdown",
   "metadata": {},
   "source": [
    "## Ejericio 5"
   ]
  },
  {
   "cell_type": "markdown",
   "metadata": {},
   "source": [
    "Se define $\\Delta_h$ como el operador\n",
    "\n",
    "$$\\Delta_h:f \\mapsto f(x+h)-f(x)=\\Delta f(x,h).$$"
   ]
  },
  {
   "cell_type": "markdown",
   "metadata": {},
   "source": [
    "Dicho operador es lineal, pues\n",
    "\n",
    "$$\\Delta_h(af(x)+bg(x))=af(x+h)+bg(x+h)-(af(x)+bg(x))$$\n",
    "$$=a(f(x+h)-f(x))+b(g(x+h)-g(x))$$\n",
    "$$=a\\Delta_hf(x)+b\\Delta_hg(x)$$"
   ]
  },
  {
   "cell_type": "markdown",
   "metadata": {},
   "source": [
    "## Ejercicio 6"
   ]
  },
  {
   "cell_type": "markdown",
   "metadata": {},
   "source": [
    "Mediante serie de Taylor se tiene lo siguiente\n",
    "\n",
    "\n",
    "$$e^{\\eta}=\\sum_{n=0}^{\\infty} \\frac{\\eta^n}{n!}= \\sum_{n=1}^{\\infty}  \\frac{\\eta^n}{n!}+ 1$$\n",
    "\n",
    "\n",
    "$$\\Rightarrow e^{\\eta}-1=\\sum_{n=1}^{\\infty} \\frac{\\eta^n}{n!}$$\n",
    "\n",
    "Eligiendo $\\eta$ como\n",
    "\n",
    "$$\\eta=\\left.h\\frac{d}{d\\xi}\\right|_{\\substack{ \\xi=x }}$$\n",
    "\n",
    "De esta manera, se obtiene la relación entre el operador derivada exacta y el operador diferencia finita hacia adelante.\n",
    "\n",
    "$$\\Delta_h=\\sum_{n=1}^{\\infty} \\frac{1}{n!}h^n\\left.\\frac{d^n}{d\\xi^n}\\right|_{\\substack{ \\xi=x }}=e^{\\eta}-1=\\phi\\left(h\\left.\\frac{d}{d\\xi}\\right|_{\\substack{ \\xi=x }}\\right)$$\n",
    "\n",
    "\n",
    "donde $\\Delta_h$ es el operador de diferencia finita hacia adelante y $\\frac{d^n}{d\\xi^n}$ es la derivada exacta."
   ]
  }
 ],
 "metadata": {
  "kernelspec": {
   "display_name": "Julia 0.4.5",
   "language": "julia",
   "name": "julia-0.4"
  },
  "language_info": {
   "file_extension": ".jl",
   "mimetype": "application/julia",
   "name": "julia",
   "version": "0.4.5"
  }
 },
 "nbformat": 4,
 "nbformat_minor": 2
}
